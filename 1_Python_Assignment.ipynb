{
 "cells": [
  {
   "cell_type": "markdown",
   "metadata": {
    "id": "l0ZzOlyxB-kf"
   },
   "source": [
    "<h1>Python: without numpy or sklearn </h1>"
   ]
  },
  {
   "cell_type": "markdown",
   "metadata": {
    "id": "C0xO8JV9B-ki"
   },
   "source": [
    "<h3> Q1: Given two matrices please print the product of those two matrices </h3>\n",
    "<pre>\n",
    "\n",
    "Ex 1: A   = [[1 3 4]\n",
    "             [2 5 7]\n",
    "             [5 9 6]]\n",
    "      B   = [[1 0 0]\n",
    "             [0 1 0]\n",
    "             [0 0 1]]\n",
    "      A*B = [[1 3 4]\n",
    "             [2 5 7]\n",
    "             [5 9 6]]\n",
    "\n",
    "     \n",
    "Ex 2: A   = [[1 2]\n",
    "             [3 4]]\n",
    "      B   = [[1 2 3 4 5]\n",
    "             [5 6 7 8 9]]\n",
    "      A*B = [[11 14 17 20 23]\n",
    "             [23 30 36 42 51]]\n",
    "             \n",
    "Ex 3: A   = [[1 2]\n",
    "             [3 4]]\n",
    "      B   = [[1 4]\n",
    "             [5 6]\n",
    "             [7 8]\n",
    "             [9 6]]\n",
    "      A*B =Not possible\n",
    "</pre>"
   ]
  },
  {
   "cell_type": "code",
   "execution_count": 1,
   "metadata": {
    "id": "rnssAfpgB-kj"
   },
   "outputs": [
    {
     "name": "stdout",
     "output_type": "stream",
     "text": [
      "Enter Number Of Rows For Matrix13\n",
      "Enter Number Of Columns For Matrix13\n",
      "Enter Number Of Rows For Matrix23\n",
      "Enter Number Of Columns For Matrix23\n",
      "Enter the entries rowwise for Matrix1\n",
      "1\n",
      "3\n",
      "4\n",
      "2\n",
      "5\n",
      "7\n",
      "5\n",
      "9\n",
      "6\n",
      "Enter the entries rowwise for Matrix2\n",
      "1\n",
      "0\n",
      "0\n",
      "0\n",
      "1\n",
      "0\n",
      "0\n",
      "0\n",
      "1\n",
      "Product of matrix 1 and Matrix 2 is: [[1. 3. 4.]\n",
      " [2. 5. 7.]\n",
      " [5. 9. 6.]]\n"
     ]
    }
   ],
   "source": [
    "import numpy as np\n",
    "\n",
    "#Inputting Matrix from User\n",
    "\n",
    "a = int(input(\"Enter Number Of Rows For Matrix1\"))\n",
    "b = int(input(\"Enter Number Of Columns For Matrix1\"))\n",
    "\n",
    "c = int(input(\"Enter Number Of Rows For Matrix2\"))\n",
    "d = int(input(\"Enter Number Of Columns For Matrix2\"))\n",
    "\n",
    "#If columns of matrix 1 and rows of Matrix 2 is not equal matrix multiplication not possible\n",
    "if b!=c:\n",
    "    print(\"Matrix Multiplication Not Possible\")\n",
    "else:\n",
    "    #Initialize matrix\n",
    "    A1 = []\n",
    "    B1 = []\n",
    "    print(\"Enter the entries rowwise for Matrix1\")\n",
    "\n",
    "    #User Input\n",
    "    for i in range(a):\n",
    "        row = []\n",
    "        for j in range(b):\n",
    "            row.append(int(input()))\n",
    "        A1.append(row)\n",
    "    \n",
    "    #User Input\n",
    "    print(\"Enter the entries rowwise for Matrix2\")\n",
    "    for i in range(c):\n",
    "        row = []\n",
    "        for j in range(d):\n",
    "            row.append(int(input()))\n",
    "        B1.append(row)\n",
    "    \n",
    "    C1 = np.zeros((a,d))\n",
    "     \n",
    "    def matrix_mul(A1, B1):\n",
    "        for i in range(a):    #iterating through Rows of A1\n",
    "             for j in range(d): #iterating through Column of B1\n",
    "                    for k in range(c):#iterating through Rows of B1 \n",
    "                         C1[i][j]+= A1[i][k]*B1[k][j]\n",
    "        return(C1)\n",
    "    \n",
    "    C1 = matrix_mul(A1, B1)\n",
    "  \n",
    "    print(\"Product of matrix 1 and Matrix 2 is:\",C1)\n",
    "            \n",
    "         \n",
    "       \n",
    "            \n",
    "               \n"
   ]
  },
  {
   "cell_type": "markdown",
   "metadata": {
    "id": "at4VwLggB-kn"
   },
   "source": [
    "<h3> Q2: Select a number randomly with probability proportional to its magnitude from the given array of n elements</h3>\n",
    "\n",
    "consider an experiment, selecting an element from the list A randomly with probability proportional to its magnitude.\n",
    "assume we are doing the same experiment for 100 times with replacement, in each experiment you will print a number that is selected randomly from A.\n",
    "\n",
    "<pre>\n",
    "Ex 1: A = [0 5 27 6 13 28 100 45 10 79]\n",
    "let f(x) denote the number of times x getting selected in 100 experiments.\n",
    "f(100) > f(79) > f(45) > f(28) > f(27) > f(13) > f(10) > f(6) > f(5) > f(0)\n",
    "</pre>"
   ]
  },
  {
   "cell_type": "code",
   "execution_count": 6,
   "metadata": {
    "id": "B6S2dpBhB-kn"
   },
   "outputs": [
    {
     "name": "stdout",
     "output_type": "stream",
     "text": [
      "79\n",
      "6\n",
      "79\n",
      "79\n",
      "79\n",
      "28\n",
      "79\n",
      "79\n",
      "100\n",
      "100\n",
      "100\n",
      "100\n",
      "45\n",
      "100\n",
      "45\n",
      "45\n",
      "100\n",
      "79\n",
      "45\n",
      "79\n",
      "27\n",
      "45\n",
      "79\n",
      "27\n",
      "100\n",
      "100\n",
      "13\n",
      "100\n",
      "79\n",
      "100\n",
      "100\n",
      "79\n",
      "100\n",
      "13\n",
      "45\n",
      "100\n",
      "45\n",
      "79\n",
      "100\n",
      "27\n",
      "79\n",
      "45\n",
      "45\n",
      "28\n",
      "79\n",
      "100\n",
      "100\n",
      "100\n",
      "28\n",
      "100\n",
      "45\n",
      "79\n",
      "100\n",
      "79\n",
      "45\n",
      "79\n",
      "100\n",
      "100\n",
      "100\n",
      "100\n",
      "28\n",
      "79\n",
      "79\n",
      "100\n",
      "100\n",
      "28\n",
      "100\n",
      "45\n",
      "100\n",
      "100\n",
      "79\n",
      "100\n",
      "79\n",
      "28\n",
      "100\n",
      "6\n",
      "28\n",
      "28\n",
      "28\n",
      "79\n",
      "13\n",
      "100\n",
      "79\n",
      "28\n",
      "10\n",
      "100\n",
      "79\n",
      "100\n",
      "6\n",
      "79\n",
      "100\n",
      "28\n",
      "100\n",
      "5\n",
      "27\n",
      "100\n",
      "45\n",
      "100\n",
      "27\n"
     ]
    }
   ],
   "source": [
    "from random import uniform\n",
    "# write your python code here\n",
    "# you can take the above example as sample input for your program to test\n",
    "# it should work for any general input try not to hard code for only given input examples\n",
    "\n",
    "\n",
    "# you can free to change all these codes/structure\n",
    "\n",
    "A =  [0,5,27,6,13,28,100,45,10,79]\n",
    "def pick_a_number_from_list(A):\n",
    "    # your code here for picking an element from with the probability propotional to its magnitude\n",
    "  \n",
    "    \n",
    "#Computing  Sum \n",
    "    sum = 0\n",
    "    for i in range(len(A)):\n",
    "        sum = sum+A[i]\n",
    "    #print(sum)    \n",
    "    \n",
    "#Normalizing Elements Using Sum \n",
    "    d_dash =[]\n",
    "        \n",
    "    for j in range(len(A)):\n",
    "        d_dash.append((A[j]/sum))\n",
    "        \n",
    "    #print(d_dash)  \n",
    "    \n",
    "#Computing Cumulative Normalized Sum \n",
    "   \n",
    "    d_tilda = []\n",
    "    d_tilda.insert(0,d_dash[0])\n",
    "\n",
    "    for k in range(len(A)-1):\n",
    "        \n",
    "        d_tilda.append(d_tilda[k] + d_dash[k+1])\n",
    "     \n",
    "    #print(d_tilda)\n",
    "    \n",
    "#Uniform Random Number Generation\n",
    "\n",
    "    u =  uniform(0.0,1.0)\n",
    "    #print(u)\n",
    "\n",
    "    number=0\n",
    "    \n",
    " #Sampling\n",
    "\n",
    "    for l in range(len(A)):\n",
    "        if u<=d_tilda[l]:\n",
    "            number=A[l]\n",
    "            return number\n",
    "        else:\n",
    "            continue\n",
    "   \n",
    "\n",
    "  \n",
    "\n",
    "def sampling_based_on_magnitude():\n",
    "    for i in range(1,100):\n",
    "        number = pick_a_number_from_list(A)\n",
    "        print(number)\n",
    "\n",
    "sampling_based_on_magnitude()"
   ]
  },
  {
   "cell_type": "markdown",
   "metadata": {
    "id": "D1xQy2WWB-kq"
   },
   "source": [
    "<h3> Q3: Replace the digits in the string with #</h3>\n",
    "\n",
    "consider a string that will have digits in that, we need to remove all the not digits and replace the digits with #\n",
    "<pre>\n",
    "Ex 1: A = 234                Output: ###\n",
    "Ex 2: A = a2b3c4             Output: ###\n",
    "Ex 3: A = abc                Output:   (empty string)\n",
    "Ex 5: A = #2a$#b%c%561#      Output: ####\n",
    "</pre>"
   ]
  },
  {
   "cell_type": "code",
   "execution_count": 7,
   "metadata": {
    "id": "fxczi2jzB-kr"
   },
   "outputs": [
    {
     "name": "stdout",
     "output_type": "stream",
     "text": [
      "2561\n"
     ]
    },
    {
     "data": {
      "text/plain": [
       "'####'"
      ]
     },
     "execution_count": 7,
     "metadata": {},
     "output_type": "execute_result"
    }
   ],
   "source": [
    "import re\n",
    "# write your python code here\n",
    "# you can take the above example as sample input for your program to test\n",
    "# it should work for any general input try not to hard code for only given input examples\n",
    "\n",
    "# you can free to change all these codes/structure\n",
    "# String: it will be the input to your program\n",
    "def replace_digits(String):\n",
    "    \n",
    "    S1 = re.sub(\"\\D\",\"\",String) #Removing \n",
    "    print(S1)\n",
    "    S2 = re.sub(\"\\d\",\"#\",S1)\n",
    "    \n",
    "    return(S2)\n",
    "\n",
    "\n",
    "String = \"#2a$#b%c%561#\" #Input\n",
    "\n",
    "\n",
    "replace_digits(String)"
   ]
  },
  {
   "cell_type": "markdown",
   "metadata": {
    "id": "j7h0Ywg7B-kw"
   },
   "source": [
    "<h3> Q4: Students marks dashboard</h3>\n",
    "\n",
    "consider the marks list of class students given two lists <br>\n",
    "Students = ['student1','student2','student3','student4','student5','student6','student7','student8','student9','student10'] <br>\n",
    "Marks = [45, 78, 12, 14, 48, 43, 45, 98, 35, 80] <br>\n",
    "from the above two lists the Student[0] got Marks[0],  Student[1] got Marks[1] and so on <br><br>\n",
    "your task is to print the name of students\n",
    "<strong>a. Who got top 5 ranks, in the descending order of marks</strong> <br>\n",
    "<strong>b. Who got least 5 ranks, in the increasing order of marks</strong><br>\n",
    "<strong>d. Who got marks between  &gt;25th percentile &lt;75th percentile, in the increasing order of marks</strong>\n",
    "\n",
    "<pre>\n",
    "Ex 1: \n",
    "Students=['student1','student2','student3','student4','student5','student6','student7','student8','student9','student10'] \n",
    "Marks = [45, 78, 12, 14, 48, 43, 47, 98, 35, 80]\n",
    "a. \n",
    "student8  98\n",
    "student10 80\n",
    "student2  78\n",
    "student5  48\n",
    "student7  47\n",
    "b.\n",
    "student3 12\n",
    "student4 14\n",
    "student9 35\n",
    "student6 43\n",
    "student1 45\n",
    "c.\n",
    "student9 35\n",
    "student6 43\n",
    "student1 45\n",
    "student7 47\n",
    "student5 48\n",
    "</pre>"
   ]
  },
  {
   "cell_type": "code",
   "execution_count": 15,
   "metadata": {
    "id": "cxPJgItsB-kx"
   },
   "outputs": [
    {
     "name": "stdout",
     "output_type": "stream",
     "text": [
      "top_5_students are {'student8': 98, 'student10': 80, 'student2': 78, 'student5': 48, 'student7': 47}\n",
      "least_5_students are {'student3': 12, 'student4': 14, 'student9': 35, 'student6': 43, 'student1': 45}\n",
      "Students who got marks between >25th percentile <75th percentile are {'student9': 35, 'student6': 43, 'student1': 45, 'student7': 47, 'student5': 48}\n"
     ]
    }
   ],
   "source": [
    "students=['student1','student2','student3','student4','student5','student6','student7','student8','student9','student10'] \n",
    "marks = [45, 78, 12, 14, 48, 43, 47, 98, 35, 80]\n",
    "\n",
    "def display_dash_board(x, y):\n",
    "    \n",
    "    diff = max(marks)-min(marks)\n",
    "    \n",
    "    # write code for computing top top 5 students\n",
    "    top_5_students = {x:y for x,y in sorted(zip(x,y),key= lambda i:i[1],reverse = True)[:5]}\n",
    "    \n",
    "    # write code for computing top least 5 students\n",
    "    \n",
    "    least_5_students = {x:y for x,y in sorted(zip(x,y),key= lambda i:i[1])[:5]}\n",
    "    \n",
    "    # write code for computing top least 5 students\n",
    "    \n",
    "    students_within_25_and_75 = {x:y for x,y in sorted(zip(x,y),key= lambda i:i[1]) if y>(diff*.25) and y<(diff*.75)}\n",
    "    \n",
    "    return top_5_students, least_5_students, students_within_25_and_75\n",
    "    \n",
    "\n",
    "top_5_students, least_5_students, students_within_25_and_75 = display_dash_board(students, marks)\n",
    "\n",
    "\n",
    "print(\"top_5_students are {0}\".format(top_5_students))\n",
    "print(\"least_5_students are {0}\".format(least_5_students))\n",
    "print(\"Students who got marks between >25th percentile <75th percentile are {0}\".format(students_within_25_and_75))"
   ]
  },
  {
   "cell_type": "markdown",
   "metadata": {
    "id": "qha0OhQHB-k1"
   },
   "source": [
    "<h3> Q5: Find the closest points</h3>\n",
    "\n",
    "consider you have given n data points in the form of list of tuples like S=[(x1,y1),(x2,y2),(x3,y3),(x4,y4),(x5,y5),..,(xn,yn)] and a point P=(p,q) <br> your task is to find 5 closest points(based on cosine distance) in S from P\n",
    "<br>cosine distance between two points (x,y) and (p,q) is defind as $cos^{-1}(\\frac{(x\\cdot p+y\\cdot q)}{\\sqrt(x^2+y^2)\\cdot\\sqrt(p^2+q^2)})$\n",
    "<pre>\n",
    "Ex:\n",
    "\n",
    "S= [(1,2),(3,4),(-1,1),(6,-7),(0, 6),(-5,-8),(-1,-1)(6,0),(1,-1)]\n",
    "P= (3,-4)\n",
    "<img src='https://i.imgur.com/vIFPOcG.jpg', width=300>\n",
    "Output:\n",
    "(6,-7)\n",
    "(1,-1)\n",
    "(6,0)\n",
    "(-5,-8)\n",
    "(-1,-1)\n",
    "</pre>"
   ]
  },
  {
   "cell_type": "code",
   "execution_count": 8,
   "metadata": {
    "id": "wA5I1g-2B-k2"
   },
   "outputs": [
    {
     "name": "stdout",
     "output_type": "stream",
     "text": [
      "[(6, -7), (1, -1), (6, 0), (-5, -8), (-1, -1)]\n"
     ]
    }
   ],
   "source": [
    "import math\n",
    "\n",
    "# here S is list of tuples and P is a tuple ot len=2\n",
    "\n",
    "#List to store points\n",
    "points = []\n",
    "\n",
    "#List to store cosine_distances\n",
    "cosine_distance = []\n",
    "\n",
    "def closest_points_to_p(S, P):\n",
    "    \n",
    "    for x,y in S:\n",
    "        \n",
    "        numerator = x*P[0] + y*P[1]\n",
    "        \n",
    "        denominator = math.sqrt(x**2+ y**2)*math.sqrt(P[0]**2+P[1]**2)\n",
    "        \n",
    "        cosine_distance.append(math.acos(numerator/denominator))\n",
    "        points.append(tuple((x,y)))\n",
    "        \n",
    "    #Stores closest distances in dictionary\n",
    "    closest_points_to_p  = {points:cosine_distance for points,cosine_distance in sorted(zip(points,cosine_distance),key = lambda i:i[1])[:5]}     \n",
    "    return list(closest_points_to_p) #Return list of tuple\n",
    "\n",
    "S= [(1,2),(3,4),(-1,1),(6,-7),(0,6),(-5,-8),(-1,-1),(6,0),(1,-1)]\n",
    "\n",
    "P= (3,-4)\n",
    "points = closest_points_to_p(S, P)\n",
    "print(points) #print the returned values"
   ]
  },
  {
   "cell_type": "markdown",
   "metadata": {
    "id": "-g11jeAiB-k5"
   },
   "source": [
    "<h3> Q6: Find Which line separates oranges and apples</h3>\n",
    "consider you have given two set of data points in the form of list of tuples like \n",
    "<pre>\n",
    "Red =[(R11,R12),(R21,R22),(R31,R32),(R41,R42),(R51,R52),..,(Rn1,Rn2)]\n",
    "Blue=[(B11,B12),(B21,B22),(B31,B32),(B41,B42),(B51,B52),..,(Bm1,Bm2)]\n",
    "</pre>\n",
    "and set of line equations(in the string formate, i.e list of strings)\n",
    "<pre>\n",
    "Lines = [a1x+b1y+c1,a2x+b2y+c2,a3x+b3y+c3,a4x+b4y+c4,..,K lines]\n",
    "Note: you need to string parsing here and get the coefficients of x,y and intercept\n",
    "</pre>\n",
    "your task is to for each line that is given print \"YES\"/\"NO\", you will print yes, if all the red points are one side of the line and blue points are other side of the line, otherwise no\n",
    "<pre>\n",
    "Ex:\n",
    "Red= [(1,1),(2,1),(4,2),(2,4), (-1,4)]\n",
    "Blue= [(-2,-1),(-1,-2),(-3,-2),(-3,-1),(1,-3)]\n",
    "Lines=[\"1x+1y+0\",\"1x-1y+0\",\"1x+0y-3\",\"0x+1y-0.5\"]\n",
    "<img src='https://i.imgur.com/DoQf7mE.jpg' width=400>\n",
    "Output:\n",
    "YES\n",
    "NO\n",
    "NO\n",
    "YES\n",
    "</pre>"
   ]
  },
  {
   "cell_type": "code",
   "execution_count": 10,
   "metadata": {
    "id": "eRxExaTRB-k6"
   },
   "outputs": [
    {
     "name": "stdout",
     "output_type": "stream",
     "text": [
      "YES\n",
      "NO\n",
      "NO\n",
      "YES\n"
     ]
    }
   ],
   "source": [
    "import re\n",
    "\n",
    "\n",
    "def i_am_the_one(red,blue,line):\n",
    "    coefficient = [] #Stores coefficients of line in list\n",
    "    counter_r = 0  #Counter to count number of red points on one side of line\n",
    "    counter_b = 0  #Counter to count number of blue points which is opposite side of line\n",
    "    \n",
    "    coefficient = re.findall(r\"[\\d\\.\\-\\+]+\", line) # Regular expression to extract integers,positive,negative and decimal sign\n",
    "    #print(coefficient)\n",
    "\n",
    " #Using concept of ax+by-d>0(For Red) or ax+by-d<0(For Blue)\n",
    "    for x,y in red:\n",
    "            \n",
    "            if float(coefficient[0])*x+float(coefficient[1])*y-float(coefficient[2])> 0:\n",
    "                counter_r+=1\n",
    "                \n",
    "    for i,j in blue:\n",
    "        \n",
    "        if float(coefficient[0])*i+float(coefficient[1])*j-float(coefficient[2])< 0:\n",
    "                counter_b+=1\n",
    "        \n",
    "    #print(counter_r)\n",
    "    #print(counter_b)\n",
    "    \n",
    "    if counter_r == len(red) and counter_b == len(blue):\n",
    "        \n",
    "        return \"YES\"\n",
    "    \n",
    "    else:\n",
    "        return \"NO\"\n",
    "        \n",
    "    \n",
    "Red= [(1,1),(2,1),(4,2),(2,4), (-1,4)]\n",
    "Blue= [(-2,-1),(-1,-2),(-3,-2),(-3,-1),(1,-3)]\n",
    "Lines=[\"1x+1y+0\",\"1x-1y+0\",\"1x+0y-3\",\"0x+1y-0.5\"]\n",
    "\n",
    "for i in Lines:\n",
    "    yes_or_no = i_am_the_one(Red, Blue, i)\n",
    "    print(yes_or_no) # the returned value"
   ]
  },
  {
   "cell_type": "markdown",
   "metadata": {
    "id": "9OBpURbNB-k9"
   },
   "source": [
    "<h3> Q7: Filling the missing values in the specified formate</h3>\n",
    "You will be given a string with digits and '\\_'(missing value) symbols you have to replace the '\\_' symbols as explained \n",
    "<pre>\n",
    "Ex 1: _, _, _, 24 ==> 24/4, 24/4, 24/4, 24/4 i.e we. have distributed the 24 equally to all 4 places <br>\n",
    "Ex 2: 40, _, _, _, 60 ==> (60+40)/5,(60+40)/5,(60+40)/5,(60+40)/5,(60+40)/5 ==> 20, 20, 20, 20, 20 i.e. the sum of (60+40) is distributed qually to all 5 places<br>\n",
    "Ex 3: 80, _, _, _, _  ==> 80/5,80/5,80/5,80/5,80/5 ==> 16, 16, 16, 16, 16 i.e. the 80 is distributed qually to all 5 missing values that are right to it<br>\n",
    "Ex 4: _, _, 30, _, _, _, 50, _, _  \n",
    "==> we will fill the missing values from left to right \n",
    "    a. first we will distribute the 30 to left two missing values (10, 10, 10, _, _, _, 50, _, _)\n",
    "    b. now distribute the sum (10+50) missing values in between (10, 10, 12, 12, 12, 12, 12, _, _) \n",
    "    c. now we will distribute 12 to right side missing values (10, 10, 12, 12, 12, 12, 4, 4, 4)\n",
    "</pre>\n",
    "for a given string with comma seprate values, which will have both missing values numbers like ex: \"_, _, x, _, _, _\"\n",
    "you need fill the missing values\n",
    "\n",
    "Q: your program reads a string like ex: \"_, _, x, _, _, _\" and returns the filled sequence\n",
    "\n",
    "Ex: \n",
    "<pre>\n",
    "Input1: \"_,_,_,24\"\n",
    "Output1: 6,6,6,6\n",
    "\n",
    "Input2: \"40,_,_,_,60\"\n",
    "Output2: 20,20,20,20,20\n",
    "\n",
    "Input3: \"80,_,_,_,_\"\n",
    "Output3: 16,16,16,16,16\n",
    "\n",
    "Input4: \"_,_,30,_,_,_,50,_,_\"\n",
    "Output4: 10,10,12,12,12,12,4,4,4\n",
    "</pre>\n",
    "\n"
   ]
  },
  {
   "cell_type": "code",
   "execution_count": 11,
   "metadata": {
    "id": "nZmpzHs_B-k-"
   },
   "outputs": [
    {
     "name": "stdout",
     "output_type": "stream",
     "text": [
      "[6.0, 6.0, 6.0, 6.0]\n",
      "[20.0, 20.0, 20.0, 20.0, 20.0]\n",
      "[16.0, 16.0, 16.0, 16.0, 16.0]\n",
      "[10.0, 10.0, 12.0, 12.0, 12.0, 12.0, 4.0, 4.0, 4.0]\n"
     ]
    }
   ],
   "source": [
    "#Below Function works according to three conditions\n",
    "#Condition 1: When Starting With '_'\n",
    "#Condition 2: When Ending With '_'\n",
    "#Condition 3: When first and last values are digits\n",
    "#Note\n",
    "\n",
    "def curve_smoothing(x, a, b):\n",
    "    #When first value is'_'\n",
    "    if a == -1:\n",
    "        v = float(x[b])/(b+1)\n",
    "        for i in range(a+1,b+1):\n",
    "            x[i] = v      #Smoothing values\n",
    "    #When last value is'_'        \n",
    "    elif b == -1:\n",
    "        v = float(x[a])/(len(x)-a)\n",
    "        for i in range(a, len(x)):\n",
    "            x[i] = v     #Smoothing Values\n",
    "    else:\n",
    "        v = (float(x[a])+float(x[b]))/(b-a+1)\n",
    "        for i in range(a,b+1):\n",
    "            x[i] = v\n",
    "    return x\n",
    "\n",
    "def replace(text):\n",
    "    # Create List from the string\n",
    "    x = text.split(\",\")\n",
    "    # Get all the pairs of indices having digits\n",
    "    y = [index for index, ele in enumerate(x) if ele!= '_']\n",
    "    # Starting with _ \n",
    "    if y[0] != 0:\n",
    "        y = [-1] + y\n",
    "    # Ending with _ \n",
    "    if y[-1] != len(x)-1:\n",
    "        y = y + [-1]    \n",
    "    # looping through each pairs\n",
    "    for (a, b) in zip(y[:-1], y[1:]): #\n",
    "        curve_smoothing(x,a,b)          \n",
    "    return x\n",
    "\n",
    "\n",
    "S = [\n",
    "    \"_,_,_,24\",\n",
    "    \"40,_,_,_,60\",\n",
    "    \"80,_,_,_,_\",\n",
    "     \"_,_,30,_,_,_,50,_,_\"]\n",
    "\n",
    "for i in S:\n",
    "    print (replace(i))"
   ]
  },
  {
   "cell_type": "markdown",
   "metadata": {
    "id": "RBz4pzlfB-lB"
   },
   "source": [
    "<h3> Q8: Filling the missing values in the specified formate</h3>\n",
    "You will be given a list of lists, each sublist will be of length 2 i.e. [[x,y],[p,q],[l,m]..[r,s]]\n",
    "consider its like a martrix of n rows and two columns\n",
    "1. the first column F will contain only 5 uniques values (F1, F2, F3, F4, F5)\n",
    "2. the second column S will contain only 3 uniques values (S1, S2, S3)\n",
    "<pre>\n",
    "your task is to find\n",
    "a. Probability of P(F=F1|S==S1), P(F=F1|S==S2), P(F=F1|S==S3)\n",
    "b. Probability of P(F=F2|S==S1), P(F=F2|S==S2), P(F=F2|S==S3)\n",
    "c. Probability of P(F=F3|S==S1), P(F=F3|S==S2), P(F=F3|S==S3)\n",
    "d. Probability of P(F=F4|S==S1), P(F=F4|S==S2), P(F=F4|S==S3)\n",
    "e. Probability of P(F=F5|S==S1), P(F=F5|S==S2), P(F=F5|S==S3)\n",
    "</pre>\n",
    "Ex:\n",
    "\n",
    "<pre>\n",
    "[[F1,S1],[F2,S2],[F3,S3],[F1,S2],[F2,S3],[F3,S2],[F2,S1],[F4,S1],[F4,S3],[F5,S1]]\n",
    "\n",
    "a. P(F=F1|S==S1)=1/4, P(F=F1|S==S2)=1/3, P(F=F1|S==S3)=0/3\n",
    "b. P(F=F2|S==S1)=1/4, P(F=F2|S==S2)=1/3, P(F=F2|S==S3)=1/3\n",
    "c. P(F=F3|S==S1)=0/4, P(F=F3|S==S2)=1/3, P(F=F3|S==S3)=1/3\n",
    "d. P(F=F4|S==S1)=1/4, P(F=F4|S==S2)=0/3, P(F=F4|S==S3)=1/3\n",
    "e. P(F=F5|S==S1)=1/4, P(F=F5|S==S2)=0/3, P(F=F5|S==S3)=0/3\n",
    "</pre>\n",
    "\n",
    "\n"
   ]
  },
  {
   "cell_type": "code",
   "execution_count": 12,
   "metadata": {
    "id": "e-1giz1MB-lC"
   },
   "outputs": [
    {
     "name": "stdout",
     "output_type": "stream",
     "text": [
      "P(F=F1|S==S1)=1/4\n",
      "P(F=F1|S==S2)=1/3\n",
      "P(F=F1|S==S3)=0/3\n",
      "P(F=F2|S==S1)=1/4\n",
      "P(F=F2|S==S2)=1/3\n",
      "P(F=F2|S==S3)=1/3\n",
      "P(F=F3|S==S1)=0/4\n",
      "P(F=F3|S==S2)=1/3\n",
      "P(F=F3|S==S3)=1/3\n",
      "P(F=F4|S==S1)=1/4\n",
      "P(F=F4|S==S2)=0/3\n",
      "P(F=F4|S==S3)=1/3\n",
      "P(F=F5|S==S1)=1/4\n",
      "P(F=F5|S==S2)=0/3\n",
      "P(F=F5|S==S3)=0/3\n"
     ]
    }
   ],
   "source": [
    "def compute_conditional_probabilites(F,S):\n",
    "    numerator=0\n",
    "    denominator=0\n",
    "    for i in range(len(A)):\n",
    "        if(A[i][1]==S):\n",
    "            denominator+=1\n",
    "            if(A[i][0]==F):\n",
    "                numerator+=1\n",
    "    print('P(F={}|S=={})={}/{}'.format(F, S, str(numerator), str(denominator)))\n",
    "    \n",
    "A = [['F1','S1'],['F2','S2'],['F3','S3'],['F1','S2'],['F2','S3'],['F3','S2'],['F2','S1'],['F4','S1'],['F4','S3'],['F5','S1']]\n",
    "\n",
    "for F in ['F1', 'F2', 'F3', 'F4', 'F5']:\n",
    "    for S in ['S1', 'S2', 'S3']:\n",
    "        compute_conditional_probabilites(F,S)"
   ]
  },
  {
   "cell_type": "markdown",
   "metadata": {
    "id": "n4HS87QmB-lF"
   },
   "source": [
    "<h3> Q9: Given two sentances S1, S2</h3>\n",
    "You will be given two sentances S1, S2 your task is to find \n",
    "<pre>\n",
    "a. Number of common words between S1, S2\n",
    "b. Words in S1 but not in S2\n",
    "c. Words in S2 but not in S1\n",
    "</pre>\n",
    "\n",
    "Ex: \n",
    "<pre>\n",
    "S1= \"the first column F will contain only 5 uniques values\"\n",
    "S2= \"the second column S will contain only 3 uniques values\"\n",
    "Output:\n",
    "a. 7\n",
    "b. ['first','F','5']\n",
    "c. ['second','S','3']\n",
    "</pre>"
   ]
  },
  {
   "cell_type": "code",
   "execution_count": 13,
   "metadata": {
    "id": "Ez7hlHK0B-lG"
   },
   "outputs": [
    {
     "name": "stdout",
     "output_type": "stream",
     "text": [
      "7\n",
      "['first', '5', 'F']\n",
      "['S', '3', 'second']\n"
     ]
    }
   ],
   "source": [
    "\n",
    "def string_features(S1, S2):\n",
    "    S1 = set(S1.split(\" \"))  #Converting String to Set\n",
    "\n",
    "    S2 = set(S2.split(\" \"))\n",
    "\n",
    "    a = S1 & S2     # And Operation -Common words between S1 and S2\n",
    "    b = S1.difference(S2) #Difference Operation - Finding Words in S1 but not in S2\n",
    "    c = S2.difference(S1) # Words in S2 but not in S1\n",
    "\n",
    "    return len(a),list(b),list(c)\n",
    "\n",
    "S1= \"the first column F will contain only 5 uniques values\"\n",
    "S2= \"the second column S will contain only 3 uniques values\"\n",
    "\n",
    "a,b,c = string_features(S1, S2)\n",
    "print(a)\n",
    "print(b)\n",
    "print(c)"
   ]
  },
  {
   "cell_type": "markdown",
   "metadata": {
    "id": "XefXVEjCB-lI"
   },
   "source": [
    "<h3> Q10: Given two sentances S1, S2</h3>\n",
    "You will be given a list of lists, each sublist will be of length 2 i.e. [[x,y],[p,q],[l,m]..[r,s]]\n",
    "consider its like a martrix of n rows and two columns\n",
    "\n",
    "a. the first column Y will contain interger values <br>\n",
    "b. the second column $Y_{score}$ will be having float values <br>\n",
    "Your task is to find the value of $f(Y,Y_{score}) = -1*\\frac{1}{n}\\Sigma_{for each Y,Y_{score} pair}(Ylog10(Y_{score})+(1-Y)log10(1-Y_{score}))$ here n is the number of rows in the matrix\n",
    "<pre>\n",
    "Ex:\n",
    "[[1, 0.4], [0, 0.5], [0, 0.9], [0, 0.3], [0, 0.6], [1, 0.1], [1, 0.9], [1, 0.8]]\n",
    "output:\n",
    "0.4243099\n",
    "</pre>\n",
    "$\\frac{-1}{8}\\cdot((1\\cdot log_{10}(0.4)+0\\cdot log_{10}(0.6))+(0\\cdot log_{10}(0.5)+1\\cdot log_{10}(0.5)) + ... + (1\\cdot log_{10}(0.8)+0\\cdot log_{10}(0.2)) )$"
   ]
  },
  {
   "cell_type": "code",
   "execution_count": 14,
   "metadata": {
    "id": "N9zkagyNB-lJ"
   },
   "outputs": [
    {
     "name": "stdout",
     "output_type": "stream",
     "text": [
      "0.42430993457031635\n"
     ]
    }
   ],
   "source": [
    "import math\n",
    "\n",
    "def compute_log_loss(A):\n",
    "    \n",
    "    numerator = 0\n",
    "    for Y,Y_score in A:\n",
    "        \n",
    "        numerator += Y*math.log(Y_score,10)+(1-Y)*math.log(1-Y_score,10)\n",
    "    log_loss = (-numerator/len(A))\n",
    "      \n",
    "    return log_loss\n",
    "\n",
    "A = [[1, 0.4], [0, 0.5], [0, 0.9], [0, 0.3], [0, 0.6], [1, 0.1], [1, 0.9], [1, 0.8]]\n",
    "log_loss = compute_log_loss(A)\n",
    "print(log_loss)"
   ]
  }
 ],
 "metadata": {
  "colab": {
   "collapsed_sections": [],
   "name": "1.Python Assignment.ipynb",
   "provenance": []
  },
  "kernelspec": {
   "display_name": "Python 3",
   "language": "python",
   "name": "python3"
  },
  "language_info": {
   "codemirror_mode": {
    "name": "ipython",
    "version": 3
   },
   "file_extension": ".py",
   "mimetype": "text/x-python",
   "name": "python",
   "nbconvert_exporter": "python",
   "pygments_lexer": "ipython3",
   "version": "3.6.5"
  }
 },
 "nbformat": 4,
 "nbformat_minor": 1
}
