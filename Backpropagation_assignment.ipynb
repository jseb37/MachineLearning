{
 "cells": [
  {
   "cell_type": "markdown",
   "metadata": {
    "id": "y871RZtRhCEH"
   },
   "source": [
    "# <font color='red'>BackPropagation</font>"
   ]
  },
  {
   "cell_type": "markdown",
   "metadata": {
    "id": "LqePYi-4mFvK"
   },
   "source": [
    "**There will be some functions that start with the word \"grader\" ex: grader_sigmoid(), grader_forwardprop(), grader_backprop() etc, you should not change those function definition.<br><br>Every Grader function has to return True.**"
   ]
  },
  {
   "cell_type": "markdown",
   "metadata": {
    "id": "0huUQ0byiI0I"
   },
   "source": [
    "## <font color='red'>Loading data </font>"
   ]
  },
  {
   "cell_type": "code",
   "execution_count": 3,
   "metadata": {
    "colab": {
     "base_uri": "https://localhost:8080/",
     "height": 50
    },
    "id": "1hSje5CBgcUb",
    "outputId": "66535fa5-f8a2-4792-bc62-7842c93480f7"
   },
   "outputs": [
    {
     "name": "stdout",
     "output_type": "stream",
     "text": [
      "(506, 6)\n",
      "(506, 5) (506,)\n"
     ]
    }
   ],
   "source": [
    "import pickle\n",
    "import numpy as np\n",
    "from tqdm import tqdm\n",
    "import matplotlib.pyplot as plt\n",
    "\n",
    "with open('data.pkl', 'rb') as f:\n",
    "    data = pickle.load(f)\n",
    "print(data.shape)\n",
    "X = data[:, :5]\n",
    "y = data[:, -1]\n",
    "print(X.shape, y.shape)"
   ]
  },
  {
   "cell_type": "code",
   "execution_count": 4,
   "metadata": {},
   "outputs": [],
   "source": [
    "import math\n",
    "import sympy as sym"
   ]
  },
  {
   "cell_type": "code",
   "execution_count": 4,
   "metadata": {},
   "outputs": [
    {
     "name": "stdout",
     "output_type": "stream",
     "text": [
      "[[-1.2879095  -0.12001342 -1.45900038 -0.66660821 -0.14421743  1.85884913]\n",
      " [-0.59338101  0.36716642 -0.30309415 -0.98732948 -0.74026221  1.81901037]\n",
      " [-0.59338101 -0.26581176 -0.30309415 -0.98732948 -0.74026221  1.81989281]\n",
      " ...\n",
      " [ 0.11573841  0.79744934  1.17646583 -0.80321172  0.15812412  1.59974823]\n",
      " [ 0.11573841  0.73699637  1.17646583 -0.80321172  0.15812412  1.5997457 ]\n",
      " [ 0.11573841  0.43473151  1.17646583 -0.80321172  0.15812412  1.59957717]]\n"
     ]
    }
   ],
   "source": [
    "print(data)"
   ]
  },
  {
   "cell_type": "code",
   "execution_count": 2,
   "metadata": {},
   "outputs": [
    {
     "name": "stdout",
     "output_type": "stream",
     "text": [
      "[[-1.2879095  -0.12001342 -1.45900038 -0.66660821 -0.14421743]\n",
      " [-0.59338101  0.36716642 -0.30309415 -0.98732948 -0.74026221]\n",
      " [-0.59338101 -0.26581176 -0.30309415 -0.98732948 -0.74026221]\n",
      " ...\n",
      " [ 0.11573841  0.79744934  1.17646583 -0.80321172  0.15812412]\n",
      " [ 0.11573841  0.73699637  1.17646583 -0.80321172  0.15812412]\n",
      " [ 0.11573841  0.43473151  1.17646583 -0.80321172  0.15812412]]\n"
     ]
    }
   ],
   "source": [
    "print(X)"
   ]
  },
  {
   "cell_type": "code",
   "execution_count": 22,
   "metadata": {},
   "outputs": [],
   "source": [
    "x = X[0]"
   ]
  },
  {
   "cell_type": "code",
   "execution_count": 23,
   "metadata": {},
   "outputs": [
    {
     "name": "stdout",
     "output_type": "stream",
     "text": [
      "[-1.2879095  -0.12001342 -1.45900038 -0.66660821 -0.14421743]\n"
     ]
    }
   ],
   "source": [
    "print(x)"
   ]
  },
  {
   "cell_type": "code",
   "execution_count": 25,
   "metadata": {},
   "outputs": [
    {
     "name": "stdout",
     "output_type": "stream",
     "text": [
      "-1.287909498957745\n"
     ]
    }
   ],
   "source": [
    "print(x[0])"
   ]
  },
  {
   "cell_type": "code",
   "execution_count": 3,
   "metadata": {},
   "outputs": [
    {
     "name": "stdout",
     "output_type": "stream",
     "text": [
      "[1.85884913 1.81901037 1.81989281 1.68590132 1.68590132 1.68590132\n",
      " 1.86287361 1.86280288 1.86297618 1.86199198 1.8626778  1.86187964\n",
      " 1.86305071 1.5772558  1.57622987 1.57730239 1.57730507 1.5761327\n",
      " 1.57730507 1.57685646 1.57720603 1.57658936 1.57681093 1.57725697\n",
      " 1.57699855 1.57630393 1.57668805 1.57655372 1.57701904 1.57642504\n",
      " 1.57699855 1.57725697 1.57613743 1.57705772 1.57715887 1.64073556\n",
      " 1.64075026 1.64075034 1.64075034 1.75865308 1.75865308 1.81735757\n",
      " 1.81735757 1.81735757 1.81735757 1.81735757 1.81735757 1.81618106\n",
      " 1.81673636 1.81735389 1.91470075 1.91470064 1.91470075 1.91470075\n",
      " 1.54097898 1.83311419 1.8726413  1.9587138  1.53007234 1.53007234\n",
      " 1.53007203 1.52889467 1.53007112 1.53007234 1.69928217 1.92920374\n",
      " 1.92920374 1.66072672 1.66072672 1.66072672 1.5938822  1.5938822\n",
      " 1.5938822  1.5938822  1.7065047  1.70638358 1.70617287 1.70634933\n",
      " 1.70575321 1.70650304 1.63061284 1.63060919 1.63061284 1.63061284\n",
      " 1.72343056 1.72343056 1.72343056 1.72343056 1.80420852 1.80446525\n",
      " 1.80446525 1.8044647  1.76541582 1.76658064 1.76658295 1.79613481\n",
      " 1.79613481 1.79613427 1.79613481 1.79613481 1.64418691 1.64460172\n",
      " 1.64446586 1.64463769 1.6448681  1.64527182 1.64501966 1.64444985\n",
      " 1.64528379 1.64496652 1.64535821 1.72594546 1.72661706 1.72664397\n",
      " 1.72617519 1.72645786 1.72548067 1.72603521 1.72547681 1.72590946\n",
      " 1.66433775 1.66433775 1.66433775 1.66433775 1.66433775 1.66433775\n",
      " 1.66433775 1.85001476 1.85001476 1.85001476 1.85001476 1.85001476\n",
      " 1.85001476 1.85001476 1.85001476 1.85001476 1.85001476 1.85001476\n",
      " 1.85001476 1.85001476 1.85001476 1.85001476 1.15918857 1.15918857\n",
      " 1.15918857 1.15918857 1.15918857 1.15918857 1.15918857 1.15918857\n",
      " 1.15918857 1.15918857 1.15918857 1.15918857 1.15918857 1.15918857\n",
      " 1.15918857 1.64613089 1.64613089 1.15918857 1.64613089 1.64613089\n",
      " 1.64613089 1.64613089 1.64613089 1.64613089 1.64613089 1.64613089\n",
      " 1.64613089 1.64613089 1.64613089 1.64613089 1.85706301 1.85742034\n",
      " 1.85770473 1.85770477 1.85770477 1.85770186 1.85769909 1.82542125\n",
      " 1.8253996  1.82542125 1.82502157 1.82472774 1.82518895 1.82542125\n",
      " 1.82542125 1.88846684 1.88846684 1.88846684 1.88846684 1.88846684\n",
      " 1.88846684 1.95731976 1.95731976 1.95082232 1.85140064 1.85140064\n",
      " 1.85140064 1.86293534 1.86293534 1.92710786 1.92710786 1.96303471\n",
      " 1.96303471 1.71301985 1.71295327 1.7118703  1.71259958 1.71301982\n",
      " 1.71300223 1.71293843 1.71291343 1.71301985 1.71301985 1.71301977\n",
      " 1.84068213 1.84184675 1.84184689 1.84184689 1.81265772 1.81270533\n",
      " 1.81336617 1.81309247 1.81514902 1.814741   1.81453416 1.81500708\n",
      " 1.81566876 1.81566876 1.8156455  1.81526548 1.81366523 1.81377101\n",
      " 1.81382483 1.81383452 1.8134626  1.81373578 1.9100494  1.9100494\n",
      " 1.9100494  1.91004936 1.9100494  1.9100494  1.63383359 1.63407407\n",
      " 1.63410656 1.63362916 1.63410656 1.63410656 1.63410656 1.63410656\n",
      " 1.63410656 1.63410656 1.93047969 1.93047969 1.96033488 1.73729864\n",
      " 1.73662612 1.73662612 1.7376319  1.7370783  1.73689568 1.7366883\n",
      " 1.73688748 1.73777142 1.73747539 1.80144845 1.80144845 1.70563144\n",
      " 1.70563444 1.70563444 1.70563413 1.70563444 1.84702574 1.84702574\n",
      " 1.84702574 1.84702574 1.84702574 1.95696848 1.95696848 1.95696848\n",
      " 1.95696848 1.9531406  1.95501234 1.95526494 1.78412537 1.92386022\n",
      " 1.92386022 1.92386022 1.56314915 1.56314915 1.56314915 1.92850231\n",
      " 1.92829749 1.92850158 1.92760009 1.92733015 1.93233001 1.93233001\n",
      " 1.93233001 1.91283005 1.91283005 1.91283005 1.74014806 1.74014806\n",
      " 1.74014806 1.74014806 1.73396586 1.73353024 1.73463479 1.73461284\n",
      " 1.73451844 1.73399281 1.73435684 1.73358368 1.73402863 1.7334873\n",
      " 1.73375645 1.73442967 1.59084867 1.59084865 1.59084867 1.5902549\n",
      " 1.59084867 1.59084867 1.59084867 1.59084867 1.81057464 1.81057464\n",
      " 1.81057464 1.88820435 1.88820435 1.49062616 1.49062616 1.49062616\n",
      " 1.49062616 1.49062616 1.49062616 1.49062616 1.49062616 1.93558326\n",
      " 1.77164943 1.7896515  1.7896515  1.68839685 1.68839685 1.79611698\n",
      " 1.89275907 1.54300547 1.54300547 1.74800652 1.74800652 1.93074207\n",
      " 1.34049868 1.34049868 1.96916828 1.96916828 1.96916828 1.96916828\n",
      " 1.96916828 1.96916828 1.96916828 1.96916828 1.95785627 1.95785627\n",
      " 1.95785627 1.9296328  1.9296328  1.9296328  1.9296328  1.9296328\n",
      " 1.94331025 1.94331025 1.94331025 1.94430245 1.94430245 1.94430245\n",
      " 1.94430245 1.94430245 1.94430245 1.94430245 1.95308471 1.95308471\n",
      " 1.95308471 1.95308471 1.95308471 1.95308471 1.95308471 1.95308471\n",
      " 1.95308471 1.95308471 1.95308471 1.95109372 1.95109372 1.95109372\n",
      " 1.95109372 1.95109372 1.95109372 1.95109372 1.95109372 1.95109372\n",
      " 1.95109372 1.95109372 1.95109372 1.95109372 1.94023311 1.94023311\n",
      " 1.91443512 1.91443512 1.91443512 1.91443512 1.91443512 1.91443512\n",
      " 1.95109372 1.94686899 1.94686899 1.94686899 1.94686899 1.95785627\n",
      " 1.95785627 1.95785627 1.9223739  1.9223739  1.90787504 1.94686899\n",
      " 1.90783736 1.94686899 1.94686899 1.94686899 1.90787505 1.90787505\n",
      " 1.90787505 1.95657944 1.95657944 1.96305955 1.96305955 1.96305955\n",
      " 1.96305955 1.96305955 1.96305955 1.96305955 1.96305955 1.96305955\n",
      " 1.96305955 1.96305955 1.96305955 1.96305955 1.95657944 1.95657944\n",
      " 1.95657944 1.95657944 1.95657944 1.95657944 1.95657944 1.95657944\n",
      " 1.95657944 1.95657944 1.95657944 1.95657944 1.95657944 1.95657944\n",
      " 1.95657944 1.95657944 1.9388146  1.93808826 1.93881585 1.90787505\n",
      " 1.90576738 1.90564894 1.90576738 1.8769305  1.90576738 1.92237372\n",
      " 1.90787505 1.90787505 1.9223739  1.9223739  1.9223739  1.9223739\n",
      " 1.87692838 1.8769305  1.8769305  1.87575329 1.90620302 1.90694607\n",
      " 1.90735214 1.90704332 1.92841201 1.92841201 1.92841201 1.92841201\n",
      " 1.92841201 1.74147674 1.74150262 1.74150262 1.74034556 1.74044331\n",
      " 1.74086609 1.74033295 1.74052676 1.59868239 1.59930133 1.59974823\n",
      " 1.5997457  1.59957717]\n"
     ]
    }
   ],
   "source": [
    "print(y)"
   ]
  },
  {
   "cell_type": "markdown",
   "metadata": {
    "id": "5JL-0soQistC"
   },
   "source": [
    "# <font color='red'>Computational graph</font>"
   ]
  },
  {
   "cell_type": "markdown",
   "metadata": {
    "id": "nREnTTJ3i0Vd"
   },
   "source": [
    "<img src='https://i.imgur.com/seSGbNS.png'>"
   ]
  },
  {
   "cell_type": "markdown",
   "metadata": {
    "id": "DSPX_H_4i_HT"
   },
   "source": [
    "\n",
    "*  **If you observe the graph, we are having input features [f1, f2, f3, f4, f5] and 9 weights [w1, w2, w3, w4, w5, w6,    w7, w8, w9]**.<br><br>\n",
    "*  **The final output of this graph is a value L which is computed as (Y-Y')^2** "
   ]
  },
  {
   "cell_type": "markdown",
   "metadata": {
    "id": "D54eDEv6jkO4"
   },
   "source": [
    "# <font color='red'>Task 1: Implementing backpropagation and Gradient checking </font>"
   ]
  },
  {
   "cell_type": "markdown",
   "metadata": {
    "id": "qocI1Vzqkod9"
   },
   "source": [
    "<font color='blue'><b>Check this video for better understanding of the computational graphs and back propagation</font>"
   ]
  },
  {
   "cell_type": "code",
   "execution_count": 1,
   "metadata": {
    "colab": {
     "base_uri": "https://localhost:8080/",
     "height": 521
    },
    "id": "Wb5WMdwJinlX",
    "outputId": "b10489ec-890a-445a-c6a4-a3e0ea2a66be"
   },
   "outputs": [
    {
     "data": {
      "image/jpeg": "[encoded data removed]",
      "text/html": [
       "\n",
       "        <iframe\n",
       "            width=\"1000\"\n",
       "            height=\"500\"\n",
       "            src=\"https://www.youtube.com/embed/i94OvYb6noo\"\n",
       "            frameborder=\"0\"\n",
       "            allowfullscreen\n",
       "        ></iframe>\n",
       "        "
      ],
      "text/plain": [
       "<IPython.lib.display.YouTubeVideo at 0x7f6ba8633f50>"
      ]
     },
     "execution_count": 1,
     "metadata": {},
     "output_type": "execute_result"
    }
   ],
   "source": [
    "from IPython.display import YouTubeVideo\n",
    "YouTubeVideo('i94OvYb6noo',width=\"1000\",height=\"500\")"
   ]
  },
  {
   "cell_type": "markdown",
   "metadata": {
    "id": "2jecTyVRlh-6"
   },
   "source": [
    "\n",
    "*  <b>Write two functions<br>\n",
    "    *  Forward propagation</b>(Write your code in<font color='blue'> def forward_propagation()</b></font>)<br><br>\n",
    "    For easy debugging, we will break the computational graph into 3 parts.\n",
    "\n",
    "    <font color='green'><b>Part 1</b></font></b>\n",
    "    <img src='https://i.imgur.com/0xUaxy6.png'><br><br>\n",
    "    <font color='green'><b>Part 2</b></font></b><br>\n",
    "    <img src='https://i.imgur.com/J29pAJL.png'><br><br>\n",
    "    <font color='green'><b>Part 3</b></font></b>\n",
    "    <img src='https://i.imgur.com/vMyCsd9.png'>\n",
    "\n",
    "    <pre>\n",
    "    <font color='green'>\n",
    "def forward_propagation(X, y, W):\n",
    "        <font color='grey'>\n",
    "        # X: input data point, note that in this assignment you are having 5-d data points\n",
    "        # y: output varible\n",
    "        # W: weight array, its of length 9, W[0] corresponds to w1 in graph, W[1] corresponds to w2 in graph, <br>         ..., W[8] corresponds to w9 in graph.  \n",
    "        # you have to return the following variables\n",
    "        # exp= part1 (compute the forward propagation until exp and then store the values in exp)\n",
    "        # tanh =part2(compute the forward propagation until tanh and then store the values in tanh)\n",
    "        # sig = part3(compute the forward propagation until sigmoid and then store the values in sig)\n",
    "        # now compute remaining values from computional graph and get y'\n",
    "        # write code to compute the value of L=(y-y')^2\n",
    "        # compute derivative of L  w.r.to Y' and store it in dl\n",
    "        # Create a dictionary to store all the intermediate values\n",
    "        # store L, exp,tanh,sig,dl variables\n",
    "        </font>\n",
    "        return (dictionary, which you might need to use for back propagation)\n",
    "        <font color='grey'>\n",
    "        </font>\n",
    "</font>\n",
    "</pre>\n",
    "    *  <b>Backward propagation</b>(Write your code in<font color='blue'> def backward_propagation()</b></font>)\n",
    "    </b>\n",
    "    <pre>\n",
    "    <font color='green'>\n",
    "    def backward_propagation(L, W,dictionary):\n",
    "        <font color='grey'>\n",
    "        # L: the loss we calculated for the current point\n",
    "        # dictionary: the outputs of the forward_propagation() function\n",
    "        # write code to compute the gradients of each weight [w1,w2,w3,...,w9]\n",
    "        # Hint: you can use dict type to store the required variables \n",
    "        # return dW, dW is a dictionary with gradients of all the weights\n",
    "        </font>\n",
    "        return dW\n",
    "        </font>\n",
    "</font>\n",
    "</pre>"
   ]
  },
  {
   "cell_type": "markdown",
   "metadata": {
    "id": "STS4NrQQc6OH"
   },
   "source": [
    " ## <font color='red'>Gradient clipping</font>"
   ]
  },
  {
   "cell_type": "markdown",
   "metadata": {
    "id": "XY7ivRNzdPok"
   },
   "source": [
    "<b> Check this  <a href='https://towardsdatascience.com/how-to-debug-a-neural-network-with-gradient-checking-41deec0357a9'>blog link</a> for more details on Gradient clipping"
   ]
  },
  {
   "cell_type": "markdown",
   "metadata": {
    "id": "BrsfpDoidtZ5"
   },
   "source": [
    " we know that the derivative of any function is\n",
    " \n",
    " $$\\lim_{\\epsilon\\to0}\\frac{f(x+\\epsilon)-f(x-\\epsilon)}{2\\epsilon}$$\n"
   ]
  },
  {
   "cell_type": "markdown",
   "metadata": {
    "id": "vUcmt0kPd02f"
   },
   "source": [
    "*  The definition above can be used as a numerical approximation of the derivative. Taking an epsilon small enough, the calculated approximation will have an error in the range of epsilon squared. \n",
    "\n",
    "*  In other words, if epsilon is 0.001, the approximation will be off by 0.00001.\n",
    "\n",
    "Therefore, we can use this to approximate the gradient, and in turn make sure that backpropagation is implemented properly. This forms the basis of <b>gradient checking!</b>"
   ]
  },
  {
   "cell_type": "markdown",
   "metadata": {
    "id": "pFSu16KCeU0x"
   },
   "source": [
    "## <Font color='blue'>Gradient checking example</font>"
   ]
  },
  {
   "cell_type": "markdown",
   "metadata": {
    "id": "Gz0mmT_xecfC"
   },
   "source": [
    "<font >\n",
    "lets understand the concept with a simple example:\n",
    "$f(w1,w2,x1,x2)=w_{1}^{2} . x_{1} + w_{2} . x_{2}$ \n",
    "\n",
    "from the above function , lets assume $w_{1}=1$, $w_{2}=2$, $x_{1}=3$, $x_{2}=4$ the gradient of $f$ w.r.t $w_{1}$ is\n",
    "\n",
    "\\begin{array} {lcl}\n",
    "\\frac{df}{dw_{1}} = dw_{1} &=&2.w_{1}.x_{1} \\\\& = &2.1.3\\\\& = &6\n",
    "\\end{array}\n",
    "\n",
    "\n",
    "let calculate the aproximate gradient of $w_{1}$ as mentinoned in the above formula and considering $\\epsilon=0.0001$\n",
    "\n",
    "\\begin{array} {lcl}\n",
    "dw_1^{approx} & = & \\frac{f(w1+\\epsilon,w2,x1,x2)-f(w1-\\epsilon,w2,x1,x2)}{2\\epsilon} \\\\ & = & \\frac{((1+0.0001)^{2} . 3 + 2 . 4) - ((1-0.0001)^{2} . 3 + 2 . 4)}{2\\epsilon} \\\\ & = & \\frac{(1.00020001 . 3 + 2 . 4) - (0.99980001. 3 + 2 . 4)}{2*0.0001} \\\\ & = & \\frac{(11.00060003) - (10.99940003)}{0.0002}\\\\ & = & 5.99999999999\n",
    "\\end{array}\n",
    "\n",
    "Then, we apply the following formula for gradient check: <i>gradient_check</i> = \n",
    "$\\frac{\\left\\Vert\\left (dW-dW^{approx}\\rm\\right) \\right\\Vert_2}{\\left\\Vert\\left (dW\\rm\\right) \\right\\Vert_2+\\left\\Vert\\left (dW^{approx}\\rm\\right) \\right\\Vert_2}$\n",
    "\n",
    "The equation above is basically the Euclidean distance normalized by the sum of the norm of the vectors. We use normalization in case that one of the vectors is very small.\n",
    "As a value for epsilon, we usually opt for 1e-7. Therefore, if gradient check return a value less than 1e-7, then it means that backpropagation was implemented correctly. Otherwise, there is potentially a mistake in your implementation. If the value exceeds 1e-3, then you are sure that the code is not correct.\n",
    "\n",
    "in our example: <i>gradient_check</i> $ = \\frac{(6 - 5.999999999994898)}{(6 + 5.999999999994898)} = 4.2514140356330737e^{-13}$\n",
    "\n",
    "you can mathamatically derive the same thing like this\n",
    "\n",
    "\\begin{array} {lcl}\n",
    "dw_1^{approx} & = & \\frac{f(w1+\\epsilon,w2,x1,x2)-f(w1-\\epsilon,w2,x1,x2)}{2\\epsilon} \\\\ & = & \\frac{((w_{1}+\\epsilon)^{2} . x_{1} + w_{2} . x_{2}) - ((w_{1}-\\epsilon)^{2} . x_{1} + w_{2} . x_{2})}{2\\epsilon} \\\\ & = & \\frac{4. \\epsilon.w_{1}. x_{1}}{2\\epsilon} \\\\ & = &  2.w_{1}.x_{1}\n",
    "\\end{array}\n"
   ]
  },
  {
   "cell_type": "markdown",
   "metadata": {
    "id": "f1BFQQaCermK"
   },
   "source": [
    "## <font color='red'> Implement Gradient checking </font> <br>\n",
    " (Write your code in <font color='blue'> def gradient_checking()</font>)"
   ]
  },
  {
   "cell_type": "markdown",
   "metadata": {
    "id": "GqpfA3AqfJba"
   },
   "source": [
    "**Algorithm** \n",
    "\n"
   ]
  },
  {
   "cell_type": "markdown",
   "metadata": {
    "id": "FL39KeRFfNoD"
   },
   "source": [
    "<pre>\n",
    "<font color='darkblue'>\n",
    "W = initilize_randomly\n",
    "def gradient_checking(data_point, W):<font color='grey'>\n",
    "    # compute the L value using forward_propagation()\n",
    "    # compute the gradients of W using backword_propagation()</font>\n",
    "    approx_gradients = []\n",
    "    for each wi weight value in W:<font color='grey'>\n",
    "        # add a small value to weight wi, and then find the values of L with the updated weights\n",
    "        # subtract a small value to weight wi, and then find the values of L with the updated weights\n",
    "        # compute the approximation gradients of weight wi</font>\n",
    "        approx_gradients.append(approximation gradients of weight wi)<font color='grey'>\n",
    "    # compare the gradient of weights W from backword_propagation() with the aproximation gradients of weights with <br>  gradient_check formula</font>\n",
    "    return gradient_check</font>\n",
    "<b>NOTE: you can do sanity check by checking all the return values of gradient_checking(),<br> they have to be zero. if not you have bug in your code\n",
    "</pre></b>"
   ]
  },
  {
   "cell_type": "markdown",
   "metadata": {
    "id": "0ufbFBFfhgL0"
   },
   "source": [
    "# <font color='red'> Task 2 : Optimizers </font>"
   ]
  },
  {
   "cell_type": "markdown",
   "metadata": {
    "id": "7zt05soYh1RM"
   },
   "source": [
    "* As a part of this task, you will be implementing 3 type of optimizers(methods to update weight)\n",
    "* Use the same computational graph that was mentioned above to do this task\n",
    "* Initilze the 9 weights from normal distribution with mean=0 and std=0.01"
   ]
  },
  {
   "cell_type": "markdown",
   "metadata": {
    "id": "CAyi7aSAicbr"
   },
   "source": [
    "**Check below video and <a href='https://cs231n.github.io/neural-networks-3/'>this</a> blog**"
   ]
  },
  {
   "cell_type": "code",
   "execution_count": 10,
   "metadata": {
    "colab": {
     "base_uri": "https://localhost:8080/",
     "height": 521
    },
    "id": "ZogcxiegkQpz",
    "outputId": "9b4e0235-e638-4f20-d9c1-ac3ca4fb3ce8"
   },
   "outputs": [
    {
     "data": {
      "image/jpeg": "[encoded data removed]",
      "text/html": [
       "\n",
       "        <iframe\n",
       "            width=\"1000\"\n",
       "            height=\"500\"\n",
       "            src=\"https://www.youtube.com/embed/gYpoJMlgyXA\"\n",
       "            frameborder=\"0\"\n",
       "            allowfullscreen\n",
       "        ></iframe>\n",
       "        "
      ],
      "text/plain": [
       "<IPython.lib.display.YouTubeVideo at 0x7f7bae649890>"
      ]
     },
     "execution_count": 10,
     "metadata": {},
     "output_type": "execute_result"
    }
   ],
   "source": [
    "from IPython.display import YouTubeVideo\n",
    "YouTubeVideo('gYpoJMlgyXA',width=\"1000\",height=\"500\")"
   ]
  },
  {
   "cell_type": "markdown",
   "metadata": {
    "id": "jmefh7ktjbaR"
   },
   "source": [
    "<font color='blue'><b>Algorithm</b>"
   ]
  },
  {
   "cell_type": "markdown",
   "metadata": {
    "id": "nAc4NudkjdNa"
   },
   "source": [
    "<pre>\n",
    "    for each epoch(1-100):\n",
    "        for each data point in your data:\n",
    "            using the functions forward_propagation() and backword_propagation() compute the gradients of weights\n",
    "            update the weigts with help of gradients  ex: w1 = w1-learning_rate*dw1\n",
    "</pre>"
   ]
  },
  {
   "cell_type": "markdown",
   "metadata": {
    "id": "_fdmPNqtjm3X"
   },
   "source": [
    "## <font color='red'> Implement below tasks</b>"
   ]
  },
  {
   "cell_type": "markdown",
   "metadata": {
    "id": "Ll9-CRsLjx_D"
   },
   "source": [
    "\n",
    "*  <b>Task 2.1</b>: you will be implementing the above algorithm with <b>Vanilla update</b> of weights<br><br>\n",
    "*  <b>Task 2.2</b>: you will be implementing the above algorithm with <b>Momentum update</b> of weights<br><br>\n",
    "*  <b>Task 2.3</b>: you will be implementing the above algorithm with <b>Adam update</b> of weights\n"
   ]
  },
  {
   "cell_type": "markdown",
   "metadata": {
    "id": "atp082demrUR"
   },
   "source": [
    "**Note : If you get any assertion error while running grader functions, please print the variables in grader functions and check which variable is returning False .Recheck your logic for that variable .**"
   ]
  },
  {
   "cell_type": "markdown",
   "metadata": {
    "id": "phG2WDkjkuIL"
   },
   "source": [
    "<br>\n",
    "<br>\n",
    "<br>"
   ]
  },
  {
   "cell_type": "markdown",
   "metadata": {
    "id": "CBaPzHP63grG"
   },
   "source": [
    "# <font color='red'>Task 1 </font>"
   ]
  },
  {
   "cell_type": "markdown",
   "metadata": {
    "id": "QfmV3FUgSrBo"
   },
   "source": [
    "## <font color='blue'>Forward propagation </font>"
   ]
  },
  {
   "cell_type": "code",
   "execution_count": 5,
   "metadata": {
    "id": "5_pBivcY30qf"
   },
   "outputs": [],
   "source": [
    "def sigmoid(z):\n",
    "    '''In this function, we will compute the sigmoid(z)'''\n",
    "    # we can use this function in forward and backward propagation\n",
    "\n",
    "    return (1/(1+math.exp(-z)))\n",
    "    \n",
    "def forward_propagation(x, y, w):\n",
    "\n",
    "          \n",
    " \n",
    "    '''In this function, we will compute the forward propagation '''\n",
    "    # X: input data point, note that in this assignment you are having 5-d data points\n",
    "    # y: output varible\n",
    "     # W: weight array, its of length 9, W[0] corresponds to w1 in graph, W[1] corresponds to w2 in graph,..., W[8] corresponds to w9 in graph.  \n",
    "    # you have to return the following variables\n",
    "\n",
    "    # exp= part1 (compute the forward propagation until exp and then store the values in exp)\n",
    "    exp = math.exp((w[0]*x[0]+w[1]*x[1])**2+w[5])\n",
    "        \n",
    "    # tanh =part2(compute the forward propagation until tanh and then store the values in tanh)\n",
    "    tanh = math.tanh(exp+w[6])\n",
    "    # sig = part3(compute the forward propagation until sigmoid and then store the values in sig)\n",
    "    a = 0\n",
    "    b = 0\n",
    "    a = w[2]*x[2]\n",
    "    b = w[3]*x[3]+w[4]*x[4]\n",
    "    sig = sigmoid((math.sin(a)*b)+w[7])\n",
    "    # now compute remaining values from computional graph and get y'\n",
    "    Y_hat = tanh+(sig*w[8])\n",
    "    # write code to compute the value of L=(y-y')^2\n",
    "#     print(Y_hat)\n",
    "    L = (y-Y_hat)**2\n",
    "        \n",
    "    # compute derivative of L  w.r.to Y' and store it in dl\n",
    "        \n",
    "    dl = -2*(y-Y_hat)\n",
    "    # Create a dictionary to store all the intermediate values\n",
    "    dict = {}\n",
    "        \n",
    "    # store L, exp,tanh,sig variables\n",
    "    dict['dy_pr'] = dl\n",
    "    dict['loss'] = L\n",
    "    dict['exp'] = exp\n",
    "    dict['tanh'] = tanh\n",
    "    dict['sigmoid'] = sig\n",
    "    return dict"
   ]
  },
  {
   "cell_type": "markdown",
   "metadata": {
    "id": "z-z1rGKqCHNN"
   },
   "source": [
    "<font color='cyan'>Grader function - 1</font>"
   ]
  },
  {
   "cell_type": "code",
   "execution_count": 6,
   "metadata": {
    "id": "6ZxFF00zBmx1"
   },
   "outputs": [
    {
     "data": {
      "text/plain": [
       "True"
      ]
     },
     "execution_count": 6,
     "metadata": {},
     "output_type": "execute_result"
    }
   ],
   "source": [
    "def grader_sigmoid(z):\n",
    "  val=sigmoid(z)\n",
    "  assert(val==0.8807970779778823)\n",
    "  return True\n",
    "grader_sigmoid(2)"
   ]
  },
  {
   "cell_type": "markdown",
   "metadata": {
    "id": "KgAUXq_aChey"
   },
   "source": [
    "<font color='cyan'>Grader function - 2 </font>"
   ]
  },
  {
   "cell_type": "code",
   "execution_count": 7,
   "metadata": {
    "id": "3uzsUqcjCorN"
   },
   "outputs": [
    {
     "name": "stdout",
     "output_type": "stream",
     "text": [
      "True\n",
      "True\n"
     ]
    },
    {
     "data": {
      "text/plain": [
       "True"
      ]
     },
     "execution_count": 7,
     "metadata": {},
     "output_type": "execute_result"
    }
   ],
   "source": [
    "def grader_forwardprop(data):\n",
    "    dl = (data['dy_pr']==-1.9285278284819143)\n",
    "    loss=(data['loss']==0.9298048963072919)\n",
    "    part1=(data['exp']==1.1272967040973583)\n",
    "    part2=(data['tanh']==0.8417934192562146)\n",
    "    part3=(data['sigmoid']==0.5279179387419721)\n",
    "#     print(data)\n",
    "#     print(dl)\n",
    "#     print(loss)\n",
    "    print(part1)\n",
    "    print(part2)\n",
    "#     print(part3)\n",
    "    \n",
    "    assert(dl and loss and part1 and part2 and part3)\n",
    "    return True\n",
    "w=np.ones(9)*0.1\n",
    "d1=forward_propagation(X[0],y[0],w)\n",
    "grader_forwardprop(d1)"
   ]
  },
  {
   "cell_type": "markdown",
   "metadata": {
    "id": "obOaAqj3Sxvb"
   },
   "source": [
    "## <font color='blue'>Backward propagation</font>"
   ]
  },
  {
   "cell_type": "code",
   "execution_count": 8,
   "metadata": {
    "id": "dS49ykcOGhIv"
   },
   "outputs": [],
   "source": [
    "def backward_propagation(L,W,dict):\n",
    "    '''In this function, we will compute the backward propagation '''\n",
    "\n",
    "    dW ={}\n",
    "    k = dict['dy_pr']\n",
    "    # L: the loss we calculated for the current point\n",
    "    # dictionary: the outputs of the forward_propagation() function\n",
    "    # write code to compute the gradients of each weight [w1,w2,w3,...,w9]\n",
    "    # Hint: you can use dict type to store the required variables \n",
    "    # dw1 = # in dw1 compute derivative of L w.r.to w1\n",
    "    dw1 = k*(1-dict['tanh']**2)*dict['exp']*2*(W[0]*L[0]+W[1]*L[1])*L[0]\n",
    "#     print(\"dw1 is\",dw1)\n",
    "\n",
    "    # dw2 = # in dw2 compute derivative of L w.r.to w2\n",
    "    dw2 = k*(1-dict['tanh']**2)*dict['exp']*2*(W[0]*L[0]+W[1]*L[1])*L[1]\n",
    "#     print(\"dw2 is\",dw2)\n",
    "    \n",
    "    # dw3 = # in dw3 compute derivative of L w.r.to w3\n",
    "    dw3 = k*W[8]*dict['sigmoid']*(1-dict['sigmoid'])*math.cos(W[2]*L[2])*L[2]*(W[3]*L[3]+W[4]*L[4])\n",
    "#     print(\"dw3 is\",dw3)\n",
    " \n",
    "    # dw4 = # in dw4 compute derivative of L w.r.to w4\n",
    "    dw4 =  k*W[8]*dict['sigmoid']*(1-dict['sigmoid'])*math.sin(W[2]*L[2])*L[3]\n",
    "#     print(\"dw4 is\",dw4)\n",
    "    \n",
    "    # dw5 = # in dw5 compute derivative of L w.r.to w5\n",
    "    dw5 = k*W[8]*dict['sigmoid']*(1-dict['sigmoid'])*math.sin(W[2]*L[2])*L[4]\n",
    "#     print(\"dw5 is\" ,dw5)\n",
    "    \n",
    "    # dw6 = # in dw6 compute derivative of L w.r.to w6\n",
    "    dw6 = k*(1-dict['tanh']**2)*dict['exp']\n",
    "#     print(\"dw6 is\",dw6)\n",
    "    \n",
    "    # dw7 = # in dw7 compute derivative of L w.r.to w7\n",
    "    dw7 = k*(1-dict['tanh']**2)\n",
    "#     print(\"dw7 is\", dw7)\n",
    "    \n",
    "    # dw8 = # in dw8 compute derivative of L w.r.to w8\n",
    "    dw8 = k*W[8]*dict['sigmoid']*(1-dict['sigmoid'])\n",
    "#     print(\"dw8 is\",dw8)\n",
    "    \n",
    "    # dw9 = # in dw9 compute derivative of L w.r.to w9\n",
    "    dw9 = k*dict['sigmoid']\n",
    "#     print(\"dw9 is\",dw9 )\n",
    "    \n",
    "    dW['dw1'] = dw1\n",
    "    dW['dw2'] = dw2\n",
    "    dW['dw3'] = dw3\n",
    "    dW['dw4'] = dw4\n",
    "    dW['dw5'] = dw5\n",
    "    dW['dw5'] = dw5\n",
    "    dW['dw6'] = dw6\n",
    "    dW['dw7'] = dw7\n",
    "    dW['dw8'] = dw8\n",
    "    dW['dw9'] = dw9\n",
    "    \n",
    "    return dW\n",
    "\n",
    "    # return dW, dW is a dictionary with gradients of all the weights"
   ]
  },
  {
   "cell_type": "markdown",
   "metadata": {
    "id": "2NpZWAVlS4jb"
   },
   "source": [
    "<font color='cyan'>Grader function - 3 </font>"
   ]
  },
  {
   "cell_type": "code",
   "execution_count": 9,
   "metadata": {
    "id": "1a8Kll2xGhMJ"
   },
   "outputs": [
    {
     "name": "stdout",
     "output_type": "stream",
     "text": [
      "True\n",
      "True\n",
      "True\n",
      "True\n",
      "True\n",
      "True\n",
      "True\n",
      "True\n",
      "True\n"
     ]
    },
    {
     "data": {
      "text/plain": [
       "True"
      ]
     },
     "execution_count": 9,
     "metadata": {},
     "output_type": "execute_result"
    }
   ],
   "source": [
    "def grader_backprop(data):\n",
    "    dw1=(data['dw1']==-0.22973323498702)\n",
    "    dw2=(data['dw2']==-0.02140761471775293)\n",
    "    dw3=(data['dw3']==-0.005625405580266319)\n",
    "    dw4=(data['dw4']==-0.004657941222712423)\n",
    "    dw5=(data['dw5']==-0.0010077228498574246)\n",
    "    dw6=(data['dw6']==-0.6334751873437471)\n",
    "    dw7=(data['dw7']==-0.561941842854033)\n",
    "    dw8=(data['dw8']==-0.04806288407316516)\n",
    "    dw9=(data['dw9']==-1.0181044360187037)\n",
    "    print(dw1)\n",
    "    print(dw2)\n",
    "    print(dw3)\n",
    "    print(dw4)\n",
    "    print(dw5)\n",
    "    print(dw6)\n",
    "    print(dw7)\n",
    "    print(dw8)\n",
    "    print(dw9)\n",
    "    \n",
    "    assert(dw1 and dw2 and dw3 and dw4 and dw5 and dw6 and dw7 and dw8 and dw9)\n",
    "    return True \n",
    "w=np.ones(9)*0.1\n",
    "d1=forward_propagation(X[0],y[0],w)\n",
    "d2=backward_propagation(X[0],w,d1)\n",
    "grader_backprop(d2)"
   ]
  },
  {
   "cell_type": "markdown",
   "metadata": {
    "id": "1rfHHXZwgwo6"
   },
   "source": [
    "## <font color='blue'> Implement gradient checking</font>"
   ]
  },
  {
   "cell_type": "code",
   "execution_count": 10,
   "metadata": {
    "id": "oh8wj1yjGhOi"
   },
   "outputs": [],
   "source": [
    "#W = initilize_randomly\n",
    "# W = np.ones(9)*0.1\n",
    "\n",
    "def gradient_checking(X,y,W):\n",
    "  \n",
    "    d1=forward_propagation(X,y,W)\n",
    "    #Get the derivatives of each weight using backpropagation\n",
    "    d2=backward_propagation(X,W,d1)\n",
    "    #Convert dictionary of derivatives to list/vector form\n",
    "    grad = list(d2.values())\n",
    "    print(\"Gradient Calculated Using Backward Propagation\",grad,\"\\n\")\n",
    "    \n",
    "    \n",
    "\n",
    "    epsilon = 0.0001 \n",
    "    gradient_check = []\n",
    "    approx_grad = np.zeros(9)\n",
    "    L_plus = np.zeros(9)\n",
    "    L_minus = np.zeros(9)\n",
    "    #Loop through each weights\n",
    "    for i,wi in enumerate(W):\n",
    "   \n",
    "     \n",
    "        W_plus =np.copy(W)\n",
    "  \n",
    "        \n",
    "        W_plus[i] =   W_plus[i]+epsilon\n",
    "\n",
    "#         print(W_plus)\n",
    "        \n",
    "        W_minus = np.copy(W)\n",
    "        W_minus[i] =  W_minus[i]-epsilon\n",
    "        \n",
    "#         print(W_minus)\n",
    "        d1_plus = forward_propagation(X,y,W_plus)\n",
    "        L_plus[i] = d1_plus['loss']\n",
    "#         print(d1_plus)\n",
    "        \n",
    "        d1_minus = forward_propagation(X,y,W_minus)\n",
    "        L_minus[i] = d1_minus['loss'] \n",
    "#         print(d1_minus)\n",
    "        # calculate numerical approximate derivative\n",
    "        approx_grad[i] = (L_plus[i]-L_minus[i])/(2*epsilon)\n",
    "        \n",
    "        gc = (np.linalg.norm(grad[i]-approx_grad[i]))/(np.linalg.norm(grad[i])+np.linalg.norm(approx_grad[i]))\n",
    "        gradient_check.append(gc)\n",
    "        \n",
    "      \n",
    "        \n",
    "    print(\"Numerical Approximation Of Derivative\",approx_grad,\"\\n\")\n",
    "        \n",
    "        \n",
    "\n",
    "    return gradient_check\n",
    "  "
   ]
  },
  {
   "cell_type": "code",
   "execution_count": 11,
   "metadata": {},
   "outputs": [
    {
     "name": "stdout",
     "output_type": "stream",
     "text": [
      "Gradient Calculated Using Backward Propagation [-0.22973323498702, -0.02140761471775293, -0.005625405580266319, -0.004657941222712423, -0.0010077228498574246, -0.6334751873437471, -0.561941842854033, -0.04806288407316516, -1.0181044360187037] \n",
      "\n",
      "Numerical Approximation Of Derivative [-2.29733230e-01 -2.14076147e-02 -5.62540556e-03 -4.65794122e-03\n",
      " -1.00772285e-03 -6.33475186e-01 -5.61941846e-01 -4.80628840e-02\n",
      " -1.01810444e+00] \n",
      "\n",
      "[1.0370728885929153e-08, 5.581934643713204e-11, 1.7287700041112022e-09, 1.87486944153289e-12, 4.2849738752544037e-10, 7.610196933782967e-10, 3.1480030084674753e-09, 4.0368014625577295e-10, 3.361951351774315e-13]\n"
     ]
    }
   ],
   "source": [
    "w=np.ones(9)*0.1\n",
    "gradient_check = gradient_checking(X[0],y[0],w)\n",
    "print(gradient_check)"
   ]
  },
  {
   "cell_type": "markdown",
   "metadata": {
    "id": "MhwDSe99kJ32"
   },
   "source": [
    "# <font color='red'>Task 2: Optimizers"
   ]
  },
  {
   "cell_type": "markdown",
   "metadata": {
    "id": "jJzI-vnPk1dB"
   },
   "source": [
    "# <font color='blue'>Algorithm with Vanilla update of weights</font>"
   ]
  },
  {
   "cell_type": "code",
   "execution_count": 12,
   "metadata": {
    "id": "xJspU6ZuGhRQ"
   },
   "outputs": [],
   "source": [
    "import numpy as np\n",
    "loss = []\n",
    "avg_loss =[]\n",
    "eta = 0.1\n",
    "w=np.random.normal(size=9).reshape(-1,1) \n",
    "\n",
    "for epoch in range(101):\n",
    "    for x,y_each in zip(X,y):\n",
    "       \n",
    "        d1=forward_propagation(x,y_each,w)\n",
    "        d2=backward_propagation(x,w,d1)\n",
    "        \n",
    "        w[0] = w[0]-eta*d2['dw1']\n",
    "        w[1] = w[1]-eta*d2['dw2']\n",
    "        w[2] = w[2]-eta*d2['dw3']\n",
    "        w[3] = w[3]-eta*d2['dw4']\n",
    "        w[4] = w[4]-eta*d2['dw5']\n",
    "        w[5] = w[5]-eta*d2['dw6']\n",
    "        w[6] = w[6]-eta*d2['dw7']\n",
    "        w[7] = w[7]-eta*d2['dw8']\n",
    "        w[8] = w[8]-eta*d2['dw9']\n",
    "        \n",
    "        avg_loss.append(d1['loss'])    \n",
    "        \n",
    "    loss.append(np.median(np.asarray(avg_loss)))   \n",
    "    \n",
    "    "
   ]
  },
  {
   "cell_type": "markdown",
   "metadata": {
    "id": "UlTLXrvmlR26"
   },
   "source": [
    "<font color='blue'>Plot between epochs and loss</font>"
   ]
  },
  {
   "cell_type": "code",
   "execution_count": 13,
   "metadata": {
    "id": "CjTCVUIoGhTo"
   },
   "outputs": [
    {
     "data": {
      "image/png": "[encoded data removed]",
      "text/plain": [
       "<Figure size 432x288 with 1 Axes>"
      ]
     },
     "metadata": {
      "needs_background": "light"
     },
     "output_type": "display_data"
    }
   ],
   "source": [
    " \n",
    "epochs = [i for i in range(101)]\n",
    "\n",
    "plt.scatter(epochs, loss, label='loss')\n",
    "\n",
    "plt.legend()\n",
    "plt.xlabel(\"epochs\")\n",
    "plt.ylabel(\"loss\")\n",
    "plt.title(\"Epochs vs Loss(Vanilla Update)\")\n",
    "plt.grid(color='black', linestyle='-', linewidth=0.5)\n",
    "plt.show()"
   ]
  },
  {
   "cell_type": "markdown",
   "metadata": {
    "id": "Ow20azfKlVhn"
   },
   "source": [
    "# Algorithm With Momentum Update Of Weights"
   ]
  },
  {
   "cell_type": "code",
   "execution_count": 17,
   "metadata": {},
   "outputs": [],
   "source": [
    "import numpy as np\n",
    "loss = []\n",
    "avg_loss =[]\n",
    "eta = 0.1\n",
    "w=np.random.normal(size=9).reshape(-1,1) \n",
    "m =0.9\n",
    "v = 0\n",
    "\n",
    "for epoch in range(101):\n",
    "    for x,y_each in zip(X,y):\n",
    "       \n",
    "        d1=forward_propagation(x,y_each,w)\n",
    "        d2=backward_propagation(x,w,d1)\n",
    "       \n",
    "        \n",
    "        v = (m*v)-eta*d2['dw1']\n",
    "        w[0]+=v\n",
    "        \n",
    "        \n",
    "        v = (m*v)-eta*d2['dw2']\n",
    "        w[1]+=v\n",
    "        \n",
    "        v = (m*v)-eta*d2['dw3']\n",
    "        w[2]+=v\n",
    "        \n",
    "        v = (m*v)-eta*d2['dw4']\n",
    "        w[3]+=v\n",
    "        \n",
    "        v = (m*v)-eta*d2['dw5']\n",
    "        w[4]+=v\n",
    "        \n",
    "        v = (m*v)-eta*d2['dw6']\n",
    "        w[5]+=v\n",
    "        \n",
    "        v = (m*v)-eta*d2['dw7']\n",
    "        w[6]+=v\n",
    "        \n",
    "        v = (m*v)-eta*d2['dw8']\n",
    "        w[7]+=v\n",
    "        \n",
    "        v = (m*v)-eta*d2['dw9']\n",
    "        w[8]+=v\n",
    "        \n",
    "        avg_loss.append(d1['loss'])    \n",
    "        \n",
    "    loss.append(np.median(np.asarray(avg_loss)))   \n",
    "    \n",
    "    "
   ]
  },
  {
   "cell_type": "markdown",
   "metadata": {
    "id": "MMy0nBw-lXml"
   },
   "source": [
    "<font color='blue'>Plot between epochs and loss</font>"
   ]
  },
  {
   "cell_type": "code",
   "execution_count": 18,
   "metadata": {
    "id": "aiFRk_uFlm2V"
   },
   "outputs": [
    {
     "data": {
      "image/png": "[encoded data removed]",
      "text/plain": [
       "<Figure size 432x288 with 1 Axes>"
      ]
     },
     "metadata": {
      "needs_background": "light"
     },
     "output_type": "display_data"
    }
   ],
   "source": [
    " \n",
    "epochs = [i for i in range(101)]\n",
    "\n",
    "plt.scatter(epochs, loss, label='loss')\n",
    "\n",
    "plt.legend()\n",
    "plt.xlabel(\"epochs\")\n",
    "plt.ylabel(\"loss\")\n",
    "plt.title(\"Epochs vs Loss (Momentum Update)\")\n",
    "plt.grid(color='black', linestyle='-', linewidth=0.5)\n",
    "plt.show()"
   ]
  },
  {
   "cell_type": "markdown",
   "metadata": {
    "id": "scleSfIXl_bC"
   },
   "source": [
    "# Algorithm With Adam Update Of Weights"
   ]
  },
  {
   "cell_type": "code",
   "execution_count": 30,
   "metadata": {
    "id": "lfXSaOP8rjBY"
   },
   "outputs": [
    {
     "name": "stderr",
     "output_type": "stream",
     "text": [
      "100%|██████████| 100/100 [00:07<00:00, 13.97it/s]\n"
     ]
    }
   ],
   "source": [
    "from tqdm import tqdm\n",
    "\n",
    "import numpy as np\n",
    "mu = 0\n",
    "sigma = 0.001\n",
    "loss = []\n",
    "avg_loss =[]\n",
    "learning_rate = 0.01\n",
    "W = np.random.normal(mu, sigma, 9) \n",
    "M=np.zeros(9)\n",
    "R=np.zeros(9)\n",
    "loss_adam=[]\n",
    "\n",
    "m =0.9\n",
    "v = 0\n",
    "beta1 =0.9\n",
    "beta2 = 0.999\n",
    "eps =1e-8\n",
    "i =0\n",
    "\n",
    "for epoch in tqdm(range(1,101)):\n",
    "    gradients_dict={}\n",
    "    lossInEpoch=0\n",
    "    for i in range(0,len(X)):\n",
    "       \n",
    "        dictionary=forward_propagation(X[i],y[i],W)\n",
    "       \n",
    "        L=dictionary['loss']\n",
    "        dw=backward_propagation(X[i],W,dictionary)\n",
    "       \n",
    "        gradients_dict[i]=dw\n",
    "        lossInEpoch=lossInEpoch+L\n",
    "        for index,wi in enumerate(W):\n",
    "           \n",
    "            M[index] = beta1 * M[index] + (1. - beta1) * dw['dw'+(str(index+1))]\n",
    "            R[index] = beta2 * R[index] + (1. - beta2) * dw['dw'+(str(index+1))]**2            \n",
    "            m_k_hat = M[index] / (1. - beta1**(i+1))\n",
    "            r_k_hat = R[index] / (1. - beta2**(i+1))\n",
    "            W[index]=wi - learning_rate * m_k_hat / (np.sqrt(r_k_hat) + eps)\n",
    "       \n",
    "        lossInEpoch=lossInEpoch/len(X)\n",
    "    loss_adam.append(lossInEpoch)\n",
    "    \n",
    "    \n",
    "    \n",
    "    \n",
    "\n",
    "\n",
    "    "
   ]
  },
  {
   "cell_type": "code",
   "execution_count": 31,
   "metadata": {},
   "outputs": [
    {
     "name": "stdout",
     "output_type": "stream",
     "text": [
      "100\n",
      "100\n"
     ]
    },
    {
     "data": {
      "image/png": "[encoded data removed]",
      "text/plain": [
       "<Figure size 432x288 with 1 Axes>"
      ]
     },
     "metadata": {
      "needs_background": "light"
     },
     "output_type": "display_data"
    }
   ],
   "source": [
    " \n",
    "epochs = [i for i in range(100)]\n",
    "\n",
    "plt.scatter(epochs, loss_adam, label='loss')\n",
    "print(len(epochs))\n",
    "print(len(loss_adam))\n",
    "\n",
    "plt.legend()\n",
    "plt.xlabel(\"epochs\")\n",
    "plt.ylabel(\"loss\")\n",
    "plt.title(\"Epochs vs Loss (Adam Update)\")\n",
    "plt.grid(color='black', linestyle='-', linewidth=0.5)\n",
    "plt.show()"
   ]
  }
 ],
 "metadata": {
  "colab": {
   "collapsed_sections": [],
   "name": "Backpropagation_assignment.ipynb",
   "provenance": []
  },
  "kernelspec": {
   "display_name": "Python 3",
   "language": "python",
   "name": "python3"
  },
  "language_info": {
   "codemirror_mode": {
    "name": "ipython",
    "version": 3
   },
   "file_extension": ".py",
   "mimetype": "text/x-python",
   "name": "python",
   "nbconvert_exporter": "python",
   "pygments_lexer": "ipython3",
   "version": "3.7.10"
  }
 },
 "nbformat": 4,
 "nbformat_minor": 1
}
