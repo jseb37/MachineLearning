{
 "cells": [
  {
   "cell_type": "markdown",
   "metadata": {
    "id": "s0Ej_bXyQvnV"
   },
   "source": [
    "# Compute performance metrics for the given Y and Y_score without sklearn"
   ]
  },
  {
   "cell_type": "code",
   "execution_count": 2,
   "metadata": {
    "id": "4CHb6NE7Qvnc"
   },
   "outputs": [],
   "source": [
    "import numpy as np\n",
    "import pandas as pd\n",
    "import matplotlib.pyplot as plt\n",
    "from tqdm import tqdm"
   ]
  },
  {
   "cell_type": "markdown",
   "metadata": {
    "id": "KbsWXuDaQvnq"
   },
   "source": [
    "<pre>\n",
    "<font color='red'><b>A.</b></font> Compute performance metrics for the given data <strong>5_a.csv</strong>\n",
    "   <b>Note 1:</b> in this data you can see number of positive points >> number of negatives points\n",
    "   <b>Note 2:</b> use pandas or numpy to read the data from <b>5_a.csv</b>\n",
    "   <b>Note 3:</b> you need to derive the class lab\n",
    "   els from given score</pre> $y^{pred}= \\text{[0 if y_score < 0.5 else 1]}$\n",
    "\n",
    "<pre>\n",
    "<ol>\n",
    "<li> Compute Confusion Matrix </li>\n",
    "<li> Compute F1 Score </li>\n",
    "<li> Compute AUC Score, you need to compute different thresholds and for each threshold compute tpr,fpr and then use               numpy.trapz(tpr_array, fpr_array) <a href='https://stackoverflow.com/q/53603376/4084039'>https://stackoverflow.com/q/53603376/4084039</a>, <a href='https://stackoverflow.com/a/39678975/4084039'>https://stackoverflow.com/a/39678975/4084039</a> Note: it should be numpy.trapz(tpr_array, fpr_array) not numpy.trapz(fpr_array, tpr_array)</li>\n",
    "<li> Compute Accuracy Score </li>\n",
    "</ol>\n",
    "</pre>"
   ]
  },
  {
   "cell_type": "code",
   "execution_count": 10,
   "metadata": {
    "id": "WaFLW7oBQvnt"
   },
   "outputs": [
    {
     "name": "stderr",
     "output_type": "stream",
     "text": [
      "100%|███████████████████████████████████████████████████████████████████████████| 10100/10100 [00:31<00:00, 318.45it/s]\n",
      "  0%|▏                                                                             | 29/10100 [00:00<00:40, 251.63it/s]"
     ]
    },
    {
     "name": "stdout",
     "output_type": "stream",
     "text": [
      "-----------------------------------------------------------------------------------------------------------------------------\n",
      "Confusion Matrix\n",
      "-----------------------------------------------------------------------------------------------------------------------------\n",
      "True_Negative is: 0\n",
      "False_Positive is: 100\n",
      "True_Positive is: 10000\n",
      "False_Negative is: 0\n",
      "-----------------------------------------------------------------------------------------------------------------------------\n",
      "F1 Score\n",
      "-----------------------------------------------------------------------------------------------------------------------------\n",
      "F1 Score is: 0.9950248756218906\n",
      "-----------------------------------------------------------------------------------------------------------------------------\n",
      "Accuracy Score\n",
      "-----------------------------------------------------------------------------------------------------------------------------\n",
      "Accuracy Score is: 0.9900990099009901\n",
      "-----------------------------------------------------------------------------------------------------------------------------\n",
      "AUC Score\n",
      "-----------------------------------------------------------------------------------------------------------------------------\n"
     ]
    },
    {
     "name": "stderr",
     "output_type": "stream",
     "text": [
      "100%|███████████████████████████████████████████████████████████████████████████| 10100/10100 [00:39<00:00, 253.92it/s]\n"
     ]
    },
    {
     "data": {
      "image/png": "[encoded data removed]",
      "text/plain": [
       "<Figure size 432x288 with 1 Axes>"
      ]
     },
     "metadata": {},
     "output_type": "display_data"
    },
    {
     "name": "stdout",
     "output_type": "stream",
     "text": [
      "AUC_Score is 0.48829900000000004\n"
     ]
    }
   ],
   "source": [
    "df = pd.read_csv(\"5_a.csv\")\n",
    "df['y_pred'] = np.where(df['proba']>0.5, 1, 0)\n",
    "\n",
    "\n",
    "#Computing Confusion Matrix\n",
    "\n",
    "for i in tqdm(df['proba']):\n",
    "    True_Positive = ((df['y']==1.0) & (df['y_pred'] == 1.0)).sum()  \n",
    "    False_Negative = ((df['y']==1.0) & (df['y_pred'] == 0.0)).sum()\n",
    "    True_Negative = ((df['y']==0.0) & (df['y_pred'] == 0.0)).sum()\n",
    "    False_Positive = ((df['y']==0.0) & (df['y_pred'] == 1.0)).sum()\n",
    "\n",
    "\n",
    "print(\"-\"*125)     \n",
    "print(\"Confusion Matrix\")\n",
    "print(\"-\"*125)\n",
    "print(\"True_Negative is:\",True_Negative )  \n",
    "print(\"False_Positive is:\",False_Positive)\n",
    "print(\"True_Positive is:\",True_Positive )\n",
    "print(\"False_Negative is:\",False_Negative)\n",
    "\n",
    " #Caclulating F1 Score\n",
    "\n",
    "\n",
    "print(\"-\"*125)\n",
    "print(\"F1 Score\")\n",
    "print(\"-\"*125)\n",
    "\n",
    "precision = True_Positive/(True_Positive+False_Positive)\n",
    "\n",
    "recall = True_Positive/(True_Positive+False_Negative)\n",
    "\n",
    "\n",
    "F1_Score = (2*precision*recall)/(precision+recall)\n",
    "        \n",
    "print(\"F1 Score is:\" , F1_Score)        \n",
    "        \n",
    "        \n",
    "# #Caclulating Accuracy Score\n",
    "\n",
    "print(\"-\"*125)\n",
    "print(\"Accuracy Score\")\n",
    "print(\"-\"*125)\n",
    "\n",
    "Accuracy_Score = (True_Positive+True_Negative)/(True_Positive+True_Negative+False_Negative+False_Positive)\n",
    "print(\"Accuracy Score is:\", Accuracy_Score)\n",
    "        \n",
    "#AUC Score\n",
    "print(\"-\"*125)\n",
    "print(\"AUC Score\")\n",
    "print(\"-\"*125)\n",
    "\n",
    "TPR =[]\n",
    "FPR =[]\n",
    "df = df.sort_values(by= [\"proba\"], ascending = False)\n",
    "df.head(5)\n",
    "\n",
    "for threshold in tqdm(df['proba'].unique()):\n",
    "    df['y_pred'] =np.where(df['proba']>=threshold, 1,0)\n",
    "    True_Positive = ((df['y']==1.0) & (df['y_pred'] == 1.0)).sum()  \n",
    "    False_Negative = ((df['y']==1.0) & (df['y_pred'] == 0.0)).sum()\n",
    "    True_Negative = ((df['y']==0.0) & (df['y_pred'] == 0.0)).sum()\n",
    "    False_Positive = ((df['y']==0.0) & (df['y_pred'] == 1.0)).sum()\n",
    "   \n",
    "    TPR.append(True_Positive/(True_Positive+False_Negative))\n",
    "    FPR.append(False_Positive/(False_Positive+True_Negative))\n",
    "    \n",
    "plt.plot(FPR,TPR)\n",
    "plt.title(\"ROC Curve\",fontsize = 15,y =1.04)\n",
    "plt.xlabel('False Positive Rate')\n",
    "plt.ylabel('True Positive Rate`')\n",
    "plt.grid()\n",
    "plt.show()\n",
    "\n",
    "AUC_Score = np.trapz(TPR, FPR)\n",
    "print(\"AUC_Score is\",AUC_Score)      "
   ]
  },
  {
   "cell_type": "markdown",
   "metadata": {
    "id": "V5KZem1BQvn2"
   },
   "source": [
    "<pre>\n",
    "<font color='red'><b>B.</b></font> Compute performance metrics for the given data <strong>5_b.csv</strong>\n",
    "   <b>Note 1:</b> in this data you can see number of positive points << number of negatives points\n",
    "   <b>Note 2:</b> use pandas or numpy to read the data from <b>5_b.csv</b>\n",
    "   <b>Note 3:</b> you need to derive the class labels from given score</pre> $y^{pred}= \\text{[0 if y_score < 0.5 else 1]}$\n",
    "\n",
    "<pre>\n",
    "<ol>\n",
    "<li> Compute Confusion Matrix </li>\n",
    "<li> Compute F1 Score </li>\n",
    "<li> Compute AUC Score, you need to compute different thresholds and for each threshold compute tpr,fpr and then use               numpy.trapz(tpr_array, fpr_array) <a href='https://stackoverflow.com/q/53603376/4084039'>https://stackoverflow.com/q/53603376/4084039</a>, <a href='https://stackoverflow.com/a/39678975/4084039'>https://stackoverflow.com/a/39678975/4084039</a></li>\n",
    "<li> Compute Accuracy Score </li>\n",
    "</ol>\n",
    "</pre>"
   ]
  },
  {
   "cell_type": "code",
   "execution_count": 59,
   "metadata": {
    "id": "U2sKlq0YQvn5"
   },
   "outputs": [
    {
     "name": "stderr",
     "output_type": "stream",
     "text": [
      "100%|████████████████████████████████████████████████████████████████████████████| 10100/10100 [01:43<00:00, 97.43it/s]\n",
      "  0%|                                                                                | 7/10100 [00:00<02:30, 67.12it/s]"
     ]
    },
    {
     "name": "stdout",
     "output_type": "stream",
     "text": [
      "-----------------------------------------------------------------------------------------------------------------------------\n",
      "Confusion Matrix\n",
      "-----------------------------------------------------------------------------------------------------------------------------\n",
      "True_Negative is: 9761\n",
      "False_Positive is: 239\n",
      "True_Positive is: 55\n",
      "False_Negative is: 45\n",
      "-----------------------------------------------------------------------------------------------------------------------------\n",
      "F1 Score\n",
      "-----------------------------------------------------------------------------------------------------------------------------\n",
      "F1 Score is: 0.2791878172588833\n",
      "-----------------------------------------------------------------------------------------------------------------------------\n",
      "Accuracy Score\n",
      "-----------------------------------------------------------------------------------------------------------------------------\n",
      "Accuracy Score is: 0.9718811881188119\n",
      "-----------------------------------------------------------------------------------------------------------------------------\n",
      "AUC Score\n",
      "-----------------------------------------------------------------------------------------------------------------------------\n"
     ]
    },
    {
     "name": "stderr",
     "output_type": "stream",
     "text": [
      "100%|████████████████████████████████████████████████████████████████████████████| 10100/10100 [01:53<00:00, 88.66it/s]\n"
     ]
    },
    {
     "data": {
      "image/png": "[encoded data removed]",
      "text/plain": [
       "<Figure size 432x288 with 1 Axes>"
      ]
     },
     "metadata": {},
     "output_type": "display_data"
    },
    {
     "name": "stdout",
     "output_type": "stream",
     "text": [
      "AUC_Score is 0.9377570000000001\n"
     ]
    }
   ],
   "source": [
    "df = pd.read_csv(\"5_b.csv\")\n",
    "df['y_pred'] = np.where(df['proba']>0.5, 1, 0)\n",
    "\n",
    "\n",
    "#Computing Confusion Matrix\n",
    "\n",
    "for i in tqdm(df['proba']):\n",
    "    True_Positive = ((df['y']==1.0) & (df['y_pred'] == 1.0)).sum()  \n",
    "    False_Negative = ((df['y']==1.0) & (df['y_pred'] == 0.0)).sum()\n",
    "    True_Negative = ((df['y']==0.0) & (df['y_pred'] == 0.0)).sum()\n",
    "    False_Positive = ((df['y']==0.0) & (df['y_pred'] == 1.0)).sum()\n",
    "\n",
    "\n",
    "print(\"-\"*125)     \n",
    "print(\"Confusion Matrix\")\n",
    "print(\"-\"*125)\n",
    "print(\"True_Negative is:\",True_Negative )  \n",
    "print(\"False_Positive is:\",False_Positive)\n",
    "print(\"True_Positive is:\",True_Positive )\n",
    "print(\"False_Negative is:\",False_Negative)\n",
    "\n",
    " #Caclulating F1 Score\n",
    "\n",
    "\n",
    "print(\"-\"*125)\n",
    "print(\"F1 Score\")\n",
    "print(\"-\"*125)\n",
    "\n",
    "precision = True_Positive/(True_Positive+False_Positive)\n",
    "\n",
    "recall = True_Positive/(True_Positive+False_Negative)\n",
    "\n",
    "\n",
    "F1_Score = (2*precision*recall)/(precision+recall)\n",
    "        \n",
    "print(\"F1 Score is:\" , F1_Score)        \n",
    "        \n",
    "        \n",
    "# #Caclulating Accuracy Score\n",
    "\n",
    "print(\"-\"*125)\n",
    "print(\"Accuracy Score\")\n",
    "print(\"-\"*125)\n",
    "\n",
    "Accuracy_Score = (True_Positive+True_Negative)/(True_Positive+True_Negative+False_Negative+False_Positive)\n",
    "print(\"Accuracy Score is:\", Accuracy_Score)\n",
    "        \n",
    "#AUC Score\n",
    "print(\"-\"*125)\n",
    "print(\"AUC Score\")\n",
    "print(\"-\"*125)\n",
    "\n",
    "TPR =[]\n",
    "FPR =[]\n",
    "df = df.sort_values(by= [\"proba\"], ascending = False)\n",
    "df.head(5)\n",
    "\n",
    "for threshold in tqdm(df['proba'].unique()):\n",
    "    df['y_pred'] =np.where(df['proba']>=threshold, 1,0)\n",
    "    True_Positive = ((df['y']==1.0) & (df['y_pred'] == 1.0)).sum()  \n",
    "    False_Negative = ((df['y']==1.0) & (df['y_pred'] == 0.0)).sum()\n",
    "    True_Negative = ((df['y']==0.0) & (df['y_pred'] == 0.0)).sum()\n",
    "    False_Positive = ((df['y']==0.0) & (df['y_pred'] == 1.0)).sum()\n",
    "   \n",
    "    TPR.append(True_Positive/(True_Positive+False_Negative))\n",
    "    FPR.append(False_Positive/(False_Positive+True_Negative))\n",
    "    \n",
    "plt.plot(FPR,TPR)\n",
    "plt.title(\"ROC Curve\",fontsize = 15,y =1.04)\n",
    "plt.xlabel('False Positive Rate')\n",
    "plt.ylabel('True Positive Rate`')\n",
    "plt.grid()\n",
    "plt.show()\n",
    "\n",
    "AUC_Score = np.trapz(TPR, FPR)\n",
    "print(\"AUC_Score is\",AUC_Score)"
   ]
  },
  {
   "cell_type": "markdown",
   "metadata": {
    "id": "GiPGonTzQvoB"
   },
   "source": [
    "<font color='red'><b>C.</b></font> Compute the best threshold (similarly to ROC curve computation) of probability which gives lowest values of metric <b>A</b> for the given data <strong>5_c.csv</strong>\n",
    "<br>\n",
    "\n",
    "you will be predicting label of a data points like this: $y^{pred}= \\text{[0 if y_score < threshold  else 1]}$\n",
    "\n",
    "$ A = 500 \\times \\text{number of false negative} + 100 \\times \\text{numebr of false positive}$\n",
    "\n",
    "<pre>\n",
    "   <b>Note 1:</b> in this data you can see number of negative points > number of positive points\n",
    "   <b>Note 2:</b> use pandas or numpy to read the data from <b>5_c.csv</b>\n",
    "</pre>"
   ]
  },
  {
   "cell_type": "code",
   "execution_count": 12,
   "metadata": {
    "id": "x5HIJzq1QvoE"
   },
   "outputs": [
    {
     "name": "stderr",
     "output_type": "stream",
     "text": [
      "100%|█████████████████████████████████████████████████████████████████████████████| 2791/2791 [00:05<00:00, 505.79it/s]"
     ]
    },
    {
     "name": "stdout",
     "output_type": "stream",
     "text": [
      "Threshold Value which gives minimum A metric value is  [0.2300390278970873]\n"
     ]
    },
    {
     "name": "stderr",
     "output_type": "stream",
     "text": [
      "\n"
     ]
    }
   ],
   "source": [
    "df = pd.read_csv(\"5_c.csv\")\n",
    "dict ={}\n",
    "A = 0 \n",
    "df = df.sort_values(by= ['prob'], ascending = False)\n",
    "for threshold in tqdm(df['prob'].unique()):\n",
    "    df['y_pred'] =np.where(df['prob']>=threshold, 1,0)\n",
    "    False_Negative = ((df['y']==1.0) & (df['y_pred'] == 0.0)).sum()\n",
    "    False_Positive = ((df['y']==0.0) & (df['y_pred'] == 1.0)).sum()\n",
    "    \n",
    "    A = 500*False_Negative + 100*False_Positive\n",
    "    dict[threshold] = A\n",
    "\n",
    "temp = min(dict.values()) \n",
    "res = [key for key in dict if dict[key] == temp] \n",
    "print(\"Threshold Value which gives minimum A metric value is \",res)\n",
    "  "
   ]
  },
  {
   "cell_type": "markdown",
   "metadata": {
    "id": "sD4CcgjXQvoL"
   },
   "source": [
    "<pre>\n",
    "<font color='red'><b>D.</b></font> Compute performance metrics(for regression) for the given data <strong>5_d.csv</strong>\n",
    "    <b>Note 2:</b> use pandas or numpy to read the data from <b>5_d.csv</b>\n",
    "    <b>Note 1:</b> <b>5_d.csv</b> will having two columns Y and predicted_Y both are real valued features\n",
    "<ol>\n",
    "<li> Compute Mean Square Error </li>\n",
    "<li> Compute MAPE: https://www.youtube.com/watch?v=ly6ztgIkUxk</li>\n",
    "<li> Compute R^2 error: https://en.wikipedia.org/wiki/Coefficient_of_determination#Definitions </li>\n",
    "</ol>\n",
    "</pre>"
   ]
  },
  {
   "cell_type": "code",
   "execution_count": 25,
   "metadata": {},
   "outputs": [
    {
     "name": "stdout",
     "output_type": "stream",
     "text": [
      "-----------------------------------------------------------------------------------------------------------------------------\n",
      "Mean Square Error\n",
      "-----------------------------------------------------------------------------------------------------------------------------\n",
      "Mean Square Error is  177.16569974554707\n",
      "-----------------------------------------------------------------------------------------------------------------------------\n",
      "Mean Absolute Percentage Error\n",
      "-----------------------------------------------------------------------------------------------------------------------------\n",
      "Mean Absolute Percentage Error is 12.91202994009687\n",
      "-----------------------------------------------------------------------------------------------------------------------------\n",
      "Coefficient Of Determination\n",
      "-----------------------------------------------------------------------------------------------------------------------------\n",
      "Coefficient Of Determination is  0.9563582786990964\n"
     ]
    }
   ],
   "source": [
    "df = pd.read_csv(\"5_d.csv\")\n",
    "\n",
    "#Mean Square Error\n",
    "print(\"-\"*125)\n",
    "print(\"Mean Square Error\")\n",
    "print(\"-\"*125)\n",
    "actual_mean = df['y'].mean()\n",
    "diff = 0\n",
    "diff_sq = 0\n",
    "y_actual = 0\n",
    "x = 0 \n",
    "\n",
    "for y, y_pred in zip(df.iloc[:, 0], df.iloc[:, 1]):\n",
    "    diff_sq += (y-y_pred)**2\n",
    "    diff += abs(y-y_pred)\n",
    "    y_actual += y\n",
    "    x+=(y-actual_mean)**2\n",
    "    \n",
    "               \n",
    "MSE = diff_sq/len(df)\n",
    "print(\"Mean Square Error is \",MSE)\n",
    "#Mean Absolute Percentage Error\n",
    "print(\"-\"*125)\n",
    "print(\"Mean Absolute Percentage Error\")\n",
    "print(\"-\"*125)\n",
    "\n",
    "MAPE = ((diff*100)/y_actual)      #Modified MAPE instead of actual value we use mean of actual value in denominator\n",
    "print(\"Mean Absolute Percentage Error is\",MAPE)\n",
    "\n",
    "#Coefficient Of Determination\n",
    "\n",
    "print(\"-\"*125)\n",
    "print(\"Coefficient Of Determination\")\n",
    "print(\"-\"*125)\n",
    "\n",
    "Coeff = 1-((diff_sq)/(x))\n",
    "\n",
    "print(\"Coefficient Of Determination is \",Coeff)"
   ]
  },
  {
   "cell_type": "code",
   "execution_count": null,
   "metadata": {},
   "outputs": [],
   "source": []
  }
 ],
 "metadata": {
  "colab": {
   "collapsed_sections": [],
   "name": "5_Performance_metrics_Instructions.ipynb",
   "provenance": []
  },
  "kernelspec": {
   "display_name": "Python 3",
   "language": "python",
   "name": "python3"
  },
  "language_info": {
   "codemirror_mode": {
    "name": "ipython",
    "version": 3
   },
   "file_extension": ".py",
   "mimetype": "text/x-python",
   "name": "python",
   "nbconvert_exporter": "python",
   "pygments_lexer": "ipython3",
   "version": "3.6.5"
  }
 },
 "nbformat": 4,
 "nbformat_minor": 1
}
